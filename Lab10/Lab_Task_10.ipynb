{
  "cells": [
    {
      "cell_type": "markdown",
      "metadata": {
        "id": "view-in-github",
        "colab_type": "text"
      },
      "source": [
        "<a href=\"https://colab.research.google.com/github/naqirraza99/CS-351L---AI-Lab1_2022574/blob/main/Lab10/Lab_Task_10.ipynb\" target=\"_parent\"><img src=\"https://colab.research.google.com/assets/colab-badge.svg\" alt=\"Open In Colab\"/></a>"
      ]
    },
    {
      "cell_type": "code",
      "execution_count": null,
      "metadata": {
        "id": "S9SsZWtZPWdX"
      },
      "outputs": [],
      "source": [
        "import pandas as pd\n",
        "import numpy as np\n",
        "import cv2\n",
        "from tensorflow import keras\n",
        "import tensorflow as tf\n",
        "import os"
      ]
    },
    {
      "cell_type": "code",
      "execution_count": null,
      "metadata": {
        "id": "p1U_PCX8PWdY"
      },
      "outputs": [],
      "source": [
        "import matplotlib.pyplot as plt"
      ]
    },
    {
      "cell_type": "code",
      "execution_count": null,
      "metadata": {
        "id": "pZ1vxnKcPWdY"
      },
      "outputs": [],
      "source": [
        "from sklearn.utils import shuffle\n",
        "from sklearn.model_selection import train_test_split"
      ]
    },
    {
      "cell_type": "code",
      "execution_count": null,
      "metadata": {
        "id": "wou2WVPOPWdY"
      },
      "outputs": [],
      "source": [
        "import tensorflow.keras.utils as utils"
      ]
    },
    {
      "cell_type": "code",
      "execution_count": null,
      "metadata": {
        "id": "T_9_pT7vPWdY"
      },
      "outputs": [],
      "source": [
        "from tensorflow.keras.models import Sequential\n",
        "from tensorflow.keras.layers import Dense , Activation , Dropout ,Flatten,  MaxPooling2D, Conv2D"
      ]
    },
    {
      "cell_type": "code",
      "execution_count": null,
      "metadata": {
        "id": "L-p2Nk8wPWdZ"
      },
      "outputs": [],
      "source": [
        " data_path = 'happy.jpg'"
      ]
    },
    {
      "cell_type": "code",
      "execution_count": null,
      "metadata": {
        "colab": {
          "base_uri": "https://localhost:8080/",
          "height": 211
        },
        "id": "SNQDCYwnPWdZ",
        "outputId": "b107e77f-3d43-415d-ae90-3ffeb8d2a3ca"
      },
      "outputs": [
        {
          "output_type": "error",
          "ename": "NotADirectoryError",
          "evalue": "[Errno 20] Not a directory: 'happy.jpg'",
          "traceback": [
            "\u001b[0;31m---------------------------------------------------------------------------\u001b[0m",
            "\u001b[0;31mNotADirectoryError\u001b[0m                        Traceback (most recent call last)",
            "\u001b[0;32m<ipython-input-23-3e85b5870ab4>\u001b[0m in \u001b[0;36m<cell line: 4>\u001b[0;34m()\u001b[0m\n\u001b[1;32m      8\u001b[0m     \u001b[0;31m# If the directory exists, continue with listing its contents\u001b[0m\u001b[0;34m\u001b[0m\u001b[0;34m\u001b[0m\u001b[0m\n\u001b[1;32m      9\u001b[0m     \u001b[0mdata_path\u001b[0m \u001b[0;34m=\u001b[0m \u001b[0;34m'happy.jpg'\u001b[0m\u001b[0;34m\u001b[0m\u001b[0;34m\u001b[0m\u001b[0m\n\u001b[0;32m---> 10\u001b[0;31m     \u001b[0mdata_dir_list\u001b[0m \u001b[0;34m=\u001b[0m \u001b[0mos\u001b[0m\u001b[0;34m.\u001b[0m\u001b[0mlistdir\u001b[0m\u001b[0;34m(\u001b[0m\u001b[0mdata_path\u001b[0m\u001b[0;34m)\u001b[0m\u001b[0;34m\u001b[0m\u001b[0;34m\u001b[0m\u001b[0m\n\u001b[0m\u001b[1;32m     11\u001b[0m     \u001b[0;31m#data_dir_list\u001b[0m\u001b[0;34m\u001b[0m\u001b[0;34m\u001b[0m\u001b[0m\n\u001b[1;32m     12\u001b[0m     \u001b[0mprint\u001b[0m\u001b[0;34m(\u001b[0m\u001b[0mstr\u001b[0m\u001b[0;34m(\u001b[0m\u001b[0mlen\u001b[0m\u001b[0;34m(\u001b[0m\u001b[0mdata_dir_list\u001b[0m\u001b[0;34m)\u001b[0m\u001b[0;34m)\u001b[0m\u001b[0;34m+\u001b[0m\u001b[0;34m' classes are'\u001b[0m\u001b[0;34m,\u001b[0m\u001b[0mdata_dir_list\u001b[0m\u001b[0;34m)\u001b[0m\u001b[0;34m\u001b[0m\u001b[0;34m\u001b[0m\u001b[0m\n",
            "\u001b[0;31mNotADirectoryError\u001b[0m: [Errno 20] Not a directory: 'happy.jpg'"
          ]
        }
      ],
      "source": []
    },
    {
      "cell_type": "code",
      "execution_count": null,
      "metadata": {
        "id": "RCFEOTdVPWdZ"
      },
      "outputs": [],
      "source": []
    },
    {
      "cell_type": "code",
      "execution_count": null,
      "metadata": {
        "colab": {
          "base_uri": "https://localhost:8080/",
          "height": 211
        },
        "id": "Cp9bdLzHPWdZ",
        "outputId": "5c077016-c508-44dc-8b44-108f6a85da34"
      },
      "outputs": [
        {
          "output_type": "error",
          "ename": "NameError",
          "evalue": "name 'data_dir_list' is not defined",
          "traceback": [
            "\u001b[0;31m---------------------------------------------------------------------------\u001b[0m",
            "\u001b[0;31mNameError\u001b[0m                                 Traceback (most recent call last)",
            "\u001b[0;32m<ipython-input-24-afe8322e9171>\u001b[0m in \u001b[0;36m<cell line: 2>\u001b[0;34m()\u001b[0m\n\u001b[1;32m      1\u001b[0m \u001b[0mimg_data\u001b[0m \u001b[0;34m=\u001b[0m \u001b[0;34m[\u001b[0m\u001b[0;34m]\u001b[0m\u001b[0;34m\u001b[0m\u001b[0;34m\u001b[0m\u001b[0m\n\u001b[0;32m----> 2\u001b[0;31m \u001b[0;32mfor\u001b[0m \u001b[0mdataset\u001b[0m \u001b[0;32min\u001b[0m \u001b[0mdata_dir_list\u001b[0m\u001b[0;34m:\u001b[0m\u001b[0;34m\u001b[0m\u001b[0;34m\u001b[0m\u001b[0m\n\u001b[0m\u001b[1;32m      3\u001b[0m     \u001b[0mimg_list\u001b[0m \u001b[0;34m=\u001b[0m \u001b[0mos\u001b[0m\u001b[0;34m.\u001b[0m\u001b[0mlistdir\u001b[0m\u001b[0;34m(\u001b[0m\u001b[0mdata_path\u001b[0m\u001b[0;34m+\u001b[0m\u001b[0;34m'/'\u001b[0m\u001b[0;34m+\u001b[0m\u001b[0mdataset\u001b[0m\u001b[0;34m)\u001b[0m\u001b[0;34m\u001b[0m\u001b[0;34m\u001b[0m\u001b[0m\n\u001b[1;32m      4\u001b[0m     \u001b[0mprint\u001b[0m\u001b[0;34m(\u001b[0m\u001b[0;34m'number of images in '\u001b[0m\u001b[0;34m+\u001b[0m\u001b[0mstr\u001b[0m\u001b[0;34m(\u001b[0m\u001b[0mdataset\u001b[0m\u001b[0;34m)\u001b[0m\u001b[0;34m+\u001b[0m\u001b[0;34m' = '\u001b[0m\u001b[0;34m,\u001b[0m\u001b[0mlen\u001b[0m\u001b[0;34m(\u001b[0m\u001b[0mimg_list\u001b[0m\u001b[0;34m)\u001b[0m\u001b[0;34m)\u001b[0m\u001b[0;34m\u001b[0m\u001b[0;34m\u001b[0m\u001b[0m\n\u001b[1;32m      5\u001b[0m     \u001b[0;32mfor\u001b[0m \u001b[0mimg\u001b[0m \u001b[0;32min\u001b[0m \u001b[0mimg_list\u001b[0m\u001b[0;34m:\u001b[0m\u001b[0;34m\u001b[0m\u001b[0;34m\u001b[0m\u001b[0m\n",
            "\u001b[0;31mNameError\u001b[0m: name 'data_dir_list' is not defined"
          ]
        }
      ],
      "source": [
        "img_data = []\n",
        "for dataset in data_dir_list:\n",
        "    img_list = os.listdir(data_path+'/'+dataset)\n",
        "    print('number of images in '+str(dataset)+' = ',len(img_list))\n",
        "    for img in img_list:\n",
        "        img = cv2.imread(data_path+'/'+dataset+'/'+img)\n",
        "\n",
        "        img = cv2.resize(img,(48,48))\n",
        "\n",
        "        img_data.append(img)\n"
      ]
    },
    {
      "cell_type": "code",
      "execution_count": null,
      "metadata": {
        "scrolled": true,
        "id": "EYkUZCNCPWda",
        "outputId": "8b20f9d4-2d06-42c1-a1d2-b3db8a609a01"
      },
      "outputs": [
        {
          "data": {
            "text/plain": [
              "(48, 48, 3)"
            ]
          },
          "execution_count": 9,
          "metadata": {},
          "output_type": "execute_result"
        }
      ],
      "source": [
        "img_data = np.array(img_data)\n",
        "img_data[0].shape"
      ]
    },
    {
      "cell_type": "code",
      "execution_count": null,
      "metadata": {
        "id": "LAiD31jHPWda",
        "outputId": "fed7619c-0d7f-42f4-c4c3-1809be9c2ee8"
      },
      "outputs": [
        {
          "data": {
            "text/plain": [
              "(981, 48, 48, 3)"
            ]
          },
          "execution_count": 10,
          "metadata": {},
          "output_type": "execute_result"
        }
      ],
      "source": [
        "img_data.shape"
      ]
    },
    {
      "cell_type": "code",
      "execution_count": null,
      "metadata": {
        "id": "y21jQ0aWPWda"
      },
      "outputs": [],
      "source": [
        "# Normalization (essential for neural nets)\n",
        "img_data = img_data.astype('float32')\n",
        "img_data = img_data/255"
      ]
    },
    {
      "cell_type": "code",
      "execution_count": null,
      "metadata": {
        "id": "hQ4pdOpRPWda",
        "outputId": "6caf3b12-44db-48c0-d6e9-09740f12a91f"
      },
      "outputs": [
        {
          "data": {
            "text/plain": [
              "(981, 48, 48, 3)"
            ]
          },
          "execution_count": 12,
          "metadata": {},
          "output_type": "execute_result"
        }
      ],
      "source": [
        "img_data.shape"
      ]
    },
    {
      "cell_type": "code",
      "execution_count": null,
      "metadata": {
        "id": "D19dagSAPWda",
        "outputId": "e782dc77-fec9-443e-b870-3713e0840818"
      },
      "outputs": [
        {
          "name": "stdout",
          "output_type": "stream",
          "text": [
            "shape of image (48, 48)\n",
            "num of images  981\n"
          ]
        }
      ],
      "source": [
        "print('shape of image', (img_data.shape[1],img_data.shape[2]))\n",
        "print('num of images ', img_data.shape[0])"
      ]
    },
    {
      "cell_type": "code",
      "execution_count": null,
      "metadata": {
        "id": "Pipu7r2hPWda"
      },
      "outputs": [],
      "source": [
        "label_text = {0:'anger', 1:'contempt', 2: 'contempt',\n",
        "                         3:'fear', 4:'happiness',\n",
        "                         5: 'sadness', 6: 'surprise'}"
      ]
    },
    {
      "cell_type": "code",
      "execution_count": null,
      "metadata": {
        "id": "X-0xJPYuPWda"
      },
      "outputs": [],
      "source": [
        "labels = np.ones((img_data.shape[0],),dtype='int64')"
      ]
    },
    {
      "cell_type": "code",
      "execution_count": null,
      "metadata": {
        "id": "ySEA-yKFPWdb"
      },
      "outputs": [],
      "source": [
        "labels[0:134]=0 #135\n",
        "labels[135:188]=1 #54\n",
        "labels[189:365]=2 #177\n",
        "\n",
        "labels[366:440]=3 #75\n",
        "labels[441:647]=4 #207\n",
        "\n",
        "labels[648:731]=5 #84\n",
        "labels[732:980]=6 #249"
      ]
    },
    {
      "cell_type": "code",
      "execution_count": null,
      "metadata": {
        "id": "GHkiLmXlPWdb"
      },
      "outputs": [],
      "source": [
        "def plotImages(images_arr):\n",
        "    fig,axes = plt.subplots(1,1,figsize=(5,5))\n",
        "#     axes = axes.flatten()\n",
        "    axes.imshow(images_arr)\n",
        "    axes.axis('off')\n",
        "    plt.tight_layout()\n",
        "    plt.show()\n"
      ]
    },
    {
      "cell_type": "code",
      "execution_count": null,
      "metadata": {
        "id": "nN3IMLh1PWdb",
        "outputId": "785e408b-6dbc-4885-db61-eeb7dfed37b3"
      },
      "outputs": [
        {
          "data": {
            "image/png": "[encoded data removed]",
            "text/plain": [
              "<Figure size 360x360 with 1 Axes>"
            ]
          },
          "metadata": {
            "needs_background": "light"
          },
          "output_type": "display_data"
        },
        {
          "name": "stdout",
          "output_type": "stream",
          "text": [
            "happiness\n"
          ]
        }
      ],
      "source": [
        "plotImages(img_data[600])\n",
        "print(label_text[labels[600]])"
      ]
    },
    {
      "cell_type": "code",
      "execution_count": null,
      "metadata": {
        "id": "kQ8aVbCfPWdb"
      },
      "outputs": [],
      "source": [
        "def create_model(optim):\n",
        "    input_shape=(48,48,3)\n",
        "\n",
        "    model = Sequential()\n",
        "    model.add(Conv2D(6, (5, 5), input_shape=input_shape, padding='same', activation = 'relu'))\n",
        "    model.add(MaxPooling2D(pool_size=(2, 2)))\n",
        "\n",
        "    model.add(Conv2D(16, (5, 5), padding='same', activation = 'relu'))\n",
        "    model.add(Activation('relu'))\n",
        "    model.add(MaxPooling2D(pool_size=(2, 2)))\n",
        "\n",
        "    model.add(Conv2D(64, (3, 3), activation = 'relu'))\n",
        "    model.add(MaxPooling2D(pool_size=(2, 2)))\n",
        "\n",
        "    model.add(Flatten())\n",
        "    model.add(Dense(128, activation = 'relu'))\n",
        "    model.add(Dropout(0.5))\n",
        "    model.add(Dense(7, activation = 'softmax'))\n",
        "\n",
        "    model.compile(loss='categorical_crossentropy', metrics=['accuracy'],optimizer=optim)\n",
        "\n",
        "    return model"
      ]
    },
    {
      "cell_type": "code",
      "execution_count": null,
      "metadata": {
        "id": "5kIdeO3EPWdb"
      },
      "outputs": [],
      "source": [
        "from tensorflow.keras.preprocessing.image import ImageDataGenerator\n",
        "from tensorflow.keras.callbacks import ModelCheckpoint, EarlyStopping, ReduceLROnPlateau\n",
        "from sklearn.model_selection import cross_val_predict, cross_val_score"
      ]
    },
    {
      "cell_type": "code",
      "execution_count": null,
      "metadata": {
        "id": "GvgH5aaTPWdb"
      },
      "outputs": [],
      "source": [
        "aug = ImageDataGenerator(rotation_range=25, width_shift_range=0.1,\n",
        "                        height_shift_range=0.1, shear_range=0.2,\n",
        "                        zoom_range=0.2, horizontal_flip=True,\n",
        "                        fill_mode='nearrest')"
      ]
    },
    {
      "cell_type": "code",
      "execution_count": null,
      "metadata": {
        "id": "SnzFp2ZkPWdb"
      },
      "outputs": [],
      "source": [
        "from tensorflow.keras.optimizers import *"
      ]
    },
    {
      "cell_type": "code",
      "execution_count": null,
      "metadata": {
        "id": "sraUpRpXPWdb"
      },
      "outputs": [],
      "source": [
        "x,y = shuffle(img_data,Y,random_state = 3)"
      ]
    },
    {
      "cell_type": "code",
      "execution_count": null,
      "metadata": {
        "id": "IOtBU8lMPWdb"
      },
      "outputs": [],
      "source": [
        "X_train, X_test, y_train, y_test = train_test_split(x, y, test_size=0.2, random_state=2)\n",
        "x_test=X_test"
      ]
    },
    {
      "cell_type": "code",
      "execution_count": null,
      "metadata": {
        "id": "jUN16sXdPWdc"
      },
      "outputs": [],
      "source": []
    },
    {
      "cell_type": "code",
      "execution_count": null,
      "metadata": {
        "id": "ATF0YkgAPWdc",
        "outputId": "72ecab71-7dad-4280-9aec-6e5fb9d51841"
      },
      "outputs": [
        {
          "name": "stdout",
          "output_type": "stream",
          "text": [
            "981\n"
          ]
        },
        {
          "data": {
            "text/plain": [
              "array([[1., 0., 0., ..., 0., 0., 0.],\n",
              "       [1., 0., 0., ..., 0., 0., 0.],\n",
              "       [1., 0., 0., ..., 0., 0., 0.],\n",
              "       ...,\n",
              "       [0., 0., 0., ..., 0., 0., 1.],\n",
              "       [0., 0., 0., ..., 0., 0., 1.],\n",
              "       [0., 1., 0., ..., 0., 0., 0.]], dtype=float32)"
            ]
          },
          "execution_count": 29,
          "metadata": {},
          "output_type": "execute_result"
        }
      ],
      "source": [
        "Y = utils.to_categorical(labels, len(dataset)-1)\n",
        "print(len(Y))\n",
        "Y"
      ]
    },
    {
      "cell_type": "code",
      "execution_count": null,
      "metadata": {
        "id": "fiSyKhPiPWdc",
        "outputId": "13b1741a-28b3-42b7-f1dd-98b7c81df3d8"
      },
      "outputs": [
        {
          "data": {
            "text/plain": [
              "981"
            ]
          },
          "execution_count": 30,
          "metadata": {},
          "output_type": "execute_result"
        }
      ],
      "source": [
        "len(img_data)"
      ]
    },
    {
      "cell_type": "code",
      "execution_count": null,
      "metadata": {
        "id": "owG-ztHnPWdc",
        "outputId": "9f700572-dbdd-4b5c-97c7-d0c1510e3beb"
      },
      "outputs": [
        {
          "data": {
            "image/png": "[encoded data removed]",
            "text/plain": [
              "<Figure size 360x360 with 1 Axes>"
            ]
          },
          "metadata": {
            "needs_background": "light"
          },
          "output_type": "display_data"
        },
        {
          "name": "stdout",
          "output_type": "stream",
          "text": [
            "[0. 0. 0. 0. 0. 0. 1.]\n"
          ]
        }
      ],
      "source": [
        "plotImages(x[0])\n",
        "print(y[0])"
      ]
    },
    {
      "cell_type": "code",
      "execution_count": null,
      "metadata": {
        "id": "5-Av0sdsPWdc"
      },
      "outputs": [],
      "source": [
        "# from sklearn.model_selection import KFold"
      ]
    },
    {
      "cell_type": "code",
      "execution_count": null,
      "metadata": {
        "id": "oqXFHmSBPWdc"
      },
      "outputs": [],
      "source": [
        "# kf = KFold(n_splits=5, shuffle=False)"
      ]
    },
    {
      "cell_type": "code",
      "execution_count": null,
      "metadata": {
        "id": "vmI-EId1PWdc"
      },
      "outputs": [],
      "source": [
        "aug.fit(X_train)"
      ]
    },
    {
      "cell_type": "code",
      "execution_count": null,
      "metadata": {
        "id": "wIboWgMsPWdc"
      },
      "outputs": [],
      "source": [
        "early_stopping = EarlyStopping(\n",
        "    monitor='val_accuracy',\n",
        "    min_delta=0.00005,\n",
        "    patience=11,\n",
        "    verbose=1,\n",
        "    restore_best_weights=True,\n",
        ")\n",
        "\n",
        "lr_scheduler = ReduceLROnPlateau(\n",
        "    monitor='val_accuracy',\n",
        "    factor=0.5,\n",
        "    patience=7,\n",
        "    min_lr=1e-7,\n",
        "    verbose=1,\n",
        ")\n",
        "\n",
        "callbacks = [\n",
        "    early_stopping,\n",
        "    lr_scheduler,\n",
        "]"
      ]
    },
    {
      "cell_type": "code",
      "execution_count": null,
      "metadata": {
        "id": "w8G2mM8APWdc"
      },
      "outputs": [],
      "source": []
    },
    {
      "cell_type": "code",
      "execution_count": null,
      "metadata": {
        "id": "eqB-dHdgPWdc"
      },
      "outputs": [],
      "source": [
        "batch_size = 32 #batch size of 32 performs the best.\n",
        "epochs = 100\n",
        "optims = [\n",
        "    Nadam(learning_rate=0.001, beta_1=0.9, beta_2=0.999, epsilon=1e-07, name='Nadam'),\n",
        "    Adam(0.001),\n",
        "]\n",
        "\n",
        "\n",
        "model = create_model(optims[1])\n",
        "\n",
        "\n"
      ]
    },
    {
      "cell_type": "code",
      "execution_count": null,
      "metadata": {
        "id": "gTj3QIgzPWdc",
        "outputId": "f47585d5-3d37-4631-8d36-a71102d60e6f"
      },
      "outputs": [
        {
          "name": "stdout",
          "output_type": "stream",
          "text": [
            "Model: \"sequential\"\n",
            "_________________________________________________________________\n",
            "Layer (type)                 Output Shape              Param #   \n",
            "=================================================================\n",
            "conv2d (Conv2D)              (None, 48, 48, 6)         456       \n",
            "_________________________________________________________________\n",
            "max_pooling2d (MaxPooling2D) (None, 24, 24, 6)         0         \n",
            "_________________________________________________________________\n",
            "conv2d_1 (Conv2D)            (None, 24, 24, 16)        2416      \n",
            "_________________________________________________________________\n",
            "activation (Activation)      (None, 24, 24, 16)        0         \n",
            "_________________________________________________________________\n",
            "max_pooling2d_1 (MaxPooling2 (None, 12, 12, 16)        0         \n",
            "_________________________________________________________________\n",
            "conv2d_2 (Conv2D)            (None, 10, 10, 64)        9280      \n",
            "_________________________________________________________________\n",
            "max_pooling2d_2 (MaxPooling2 (None, 5, 5, 64)          0         \n",
            "_________________________________________________________________\n",
            "flatten (Flatten)            (None, 1600)              0         \n",
            "_________________________________________________________________\n",
            "dense (Dense)                (None, 128)               204928    \n",
            "_________________________________________________________________\n",
            "dropout (Dropout)            (None, 128)               0         \n",
            "_________________________________________________________________\n",
            "dense_1 (Dense)              (None, 7)                 903       \n",
            "=================================================================\n",
            "Total params: 217,983\n",
            "Trainable params: 217,983\n",
            "Non-trainable params: 0\n",
            "_________________________________________________________________\n"
          ]
        }
      ],
      "source": [
        "model.summary()"
      ]
    },
    {
      "cell_type": "code",
      "execution_count": null,
      "metadata": {
        "id": "J6sRIxVlPWdc",
        "outputId": "b390afbc-be38-48b2-f3c8-7b2e767fc85b"
      },
      "outputs": [
        {
          "name": "stdout",
          "output_type": "stream",
          "text": [
            "Epoch 1/100\n",
            "23/23 - 1s - loss: 1.8314 - accuracy: 0.2567 - val_loss: 1.7486 - val_accuracy: 0.2532\n",
            "Epoch 2/100\n",
            "23/23 - 1s - loss: 1.7708 - accuracy: 0.3121 - val_loss: 1.6767 - val_accuracy: 0.3165\n",
            "Epoch 3/100\n",
            "23/23 - 1s - loss: 1.6179 - accuracy: 0.4043 - val_loss: 1.4187 - val_accuracy: 0.4557\n",
            "Epoch 4/100\n",
            "23/23 - 1s - loss: 1.3359 - accuracy: 0.5092 - val_loss: 1.1353 - val_accuracy: 0.5823\n",
            "Epoch 5/100\n",
            "23/23 - 1s - loss: 1.1482 - accuracy: 0.5589 - val_loss: 0.9913 - val_accuracy: 0.6329\n",
            "Epoch 6/100\n",
            "23/23 - 1s - loss: 0.9731 - accuracy: 0.6369 - val_loss: 0.8014 - val_accuracy: 0.7722\n",
            "Epoch 7/100\n",
            "23/23 - 1s - loss: 0.8787 - accuracy: 0.6723 - val_loss: 0.7090 - val_accuracy: 0.7848\n",
            "Epoch 8/100\n",
            "23/23 - 1s - loss: 0.8417 - accuracy: 0.6950 - val_loss: 0.6416 - val_accuracy: 0.7342\n",
            "Epoch 9/100\n",
            "23/23 - 1s - loss: 0.6714 - accuracy: 0.7433 - val_loss: 0.5970 - val_accuracy: 0.8228\n",
            "Epoch 10/100\n",
            "23/23 - 1s - loss: 0.6323 - accuracy: 0.7702 - val_loss: 0.5719 - val_accuracy: 0.8861\n",
            "Epoch 11/100\n",
            "23/23 - 1s - loss: 0.5814 - accuracy: 0.8099 - val_loss: 0.5362 - val_accuracy: 0.8608\n",
            "Epoch 12/100\n",
            "23/23 - 1s - loss: 0.5713 - accuracy: 0.8028 - val_loss: 0.4723 - val_accuracy: 0.9241\n",
            "Epoch 13/100\n",
            "23/23 - 1s - loss: 0.4466 - accuracy: 0.8610 - val_loss: 0.4912 - val_accuracy: 0.8987\n",
            "Epoch 14/100\n",
            "23/23 - 1s - loss: 0.4108 - accuracy: 0.8624 - val_loss: 0.3804 - val_accuracy: 0.9494\n",
            "Epoch 15/100\n",
            "23/23 - 1s - loss: 0.3690 - accuracy: 0.8624 - val_loss: 0.4051 - val_accuracy: 0.9367\n",
            "Epoch 16/100\n",
            "23/23 - 1s - loss: 0.3296 - accuracy: 0.8879 - val_loss: 0.3835 - val_accuracy: 0.9367\n",
            "Epoch 17/100\n",
            "23/23 - 1s - loss: 0.3513 - accuracy: 0.8837 - val_loss: 0.3839 - val_accuracy: 0.9241\n",
            "Epoch 18/100\n",
            "23/23 - 1s - loss: 0.2756 - accuracy: 0.9135 - val_loss: 0.4362 - val_accuracy: 0.9241\n",
            "Epoch 19/100\n",
            "23/23 - 1s - loss: 0.2753 - accuracy: 0.9191 - val_loss: 0.3398 - val_accuracy: 0.9367\n",
            "Epoch 20/100\n",
            "23/23 - 1s - loss: 0.4643 - accuracy: 0.8184 - val_loss: 0.3630 - val_accuracy: 0.9747\n",
            "Epoch 21/100\n",
            "23/23 - 1s - loss: 0.3619 - accuracy: 0.8922 - val_loss: 0.3340 - val_accuracy: 0.9367\n",
            "Epoch 22/100\n",
            "23/23 - 1s - loss: 0.2598 - accuracy: 0.9163 - val_loss: 0.3423 - val_accuracy: 0.9747\n",
            "Epoch 23/100\n",
            "23/23 - 1s - loss: 0.2132 - accuracy: 0.9319 - val_loss: 0.3287 - val_accuracy: 0.9747\n",
            "Epoch 24/100\n",
            "23/23 - 1s - loss: 0.2056 - accuracy: 0.9333 - val_loss: 0.3572 - val_accuracy: 0.9494\n",
            "Epoch 25/100\n",
            "23/23 - 1s - loss: 0.2133 - accuracy: 0.9433 - val_loss: 0.3186 - val_accuracy: 0.9747\n",
            "Epoch 26/100\n",
            "23/23 - 1s - loss: 0.1757 - accuracy: 0.9546 - val_loss: 0.3395 - val_accuracy: 0.9747\n",
            "Epoch 27/100\n",
            "\n",
            "Epoch 00027: ReduceLROnPlateau reducing learning rate to 0.0005000000237487257.\n",
            "23/23 - 1s - loss: 0.1662 - accuracy: 0.9532 - val_loss: 0.3020 - val_accuracy: 0.9747\n",
            "Epoch 28/100\n",
            "23/23 - 1s - loss: 0.1591 - accuracy: 0.9589 - val_loss: 0.3420 - val_accuracy: 0.9747\n",
            "Epoch 29/100\n",
            "23/23 - 1s - loss: 0.1355 - accuracy: 0.9603 - val_loss: 0.3498 - val_accuracy: 0.9747\n",
            "Epoch 30/100\n",
            "23/23 - 1s - loss: 0.1412 - accuracy: 0.9560 - val_loss: 0.3421 - val_accuracy: 0.9747\n",
            "Epoch 31/100\n",
            "Restoring model weights from the end of the best epoch.\n",
            "23/23 - 1s - loss: 0.1216 - accuracy: 0.9702 - val_loss: 0.3486 - val_accuracy: 0.9747\n",
            "Epoch 00031: early stopping\n"
          ]
        },
        {
          "data": {
            "text/plain": [
              "<tensorflow.python.keras.callbacks.History at 0x14fc93be5f8>"
            ]
          },
          "execution_count": 38,
          "metadata": {},
          "output_type": "execute_result"
        }
      ],
      "source": [
        "model.fit(x=X_train, y= y_train, validation_split=0.1, batch_size=32,\n",
        "          epochs=100, shuffle=True, verbose=2, callbacks=callbacks\n",
        "         )"
      ]
    },
    {
      "cell_type": "code",
      "execution_count": null,
      "metadata": {
        "id": "mf7WoSC4PWdc"
      },
      "outputs": [],
      "source": []
    },
    {
      "cell_type": "code",
      "execution_count": null,
      "metadata": {
        "id": "WxjL5bZiPWdc"
      },
      "outputs": [],
      "source": []
    },
    {
      "cell_type": "code",
      "execution_count": null,
      "metadata": {
        "id": "OMidCOdyPWdd",
        "outputId": "217a3099-46ef-4cd5-92cd-e8f55fce1cdc"
      },
      "outputs": [
        {
          "name": "stdout",
          "output_type": "stream",
          "text": [
            "WARNING:tensorflow:From <ipython-input-39-25e6cc6e3d40>:2: Sequential.predict_classes (from tensorflow.python.keras.engine.sequential) is deprecated and will be removed after 2021-01-01.\n",
            "Instructions for updating:\n",
            "Please use instead:* `np.argmax(model.predict(x), axis=-1)`,   if your model does multi-class classification   (e.g. if it uses a `softmax` last-layer activation).* `(model.predict(x) > 0.5).astype(\"int32\")`,   if your model does binary classification   (e.g. if it uses a `sigmoid` last-layer activation).\n"
          ]
        }
      ],
      "source": [
        "from sklearn.metrics import confusion_matrix\n",
        "results = model.predict_classes(X_test)\n",
        "cm = confusion_matrix(np.where(y_test == 1)[1], results)"
      ]
    },
    {
      "cell_type": "code",
      "execution_count": null,
      "metadata": {
        "id": "uyPh8n4cPWdd"
      },
      "outputs": [],
      "source": [
        "import seaborn as sns\n",
        "import pandas as pd"
      ]
    },
    {
      "cell_type": "code",
      "execution_count": null,
      "metadata": {
        "id": "kryBNOA0PWdd"
      },
      "outputs": [],
      "source": [
        "label_mapdisgust = ['anger','contempt','disgust','fear','happy','sadness','surprise']"
      ]
    },
    {
      "cell_type": "code",
      "execution_count": null,
      "metadata": {
        "id": "zoeZ5yi_PWdd"
      },
      "outputs": [],
      "source": [
        "cm_df = pd.DataFrame(cm, index = label_mapdisgust,\n",
        "                     columns = label_mapdisgust\n",
        "                    )"
      ]
    },
    {
      "cell_type": "code",
      "execution_count": null,
      "metadata": {
        "id": "Qrp34MqBPWdd",
        "outputId": "93d978c1-4029-4762-899b-a2ac190c9c22"
      },
      "outputs": [
        {
          "data": {
            "image/png": "[encoded data removed]",
            "text/plain": [
              "<Figure size 360x360 with 1 Axes>"
            ]
          },
          "metadata": {
            "needs_background": "light"
          },
          "output_type": "display_data"
        }
      ],
      "source": [
        "plt.figure(figsize = (5,5))\n",
        "sns.heatmap(cm, annot = True,cmap='Greys',cbar=False,linewidth=2,fmt='d')\n",
        "plt.title('CNN Emotion Classify')\n",
        "plt.ylabel('True class')\n",
        "plt.xlabel('Prediction class')\n",
        "plt.show()"
      ]
    },
    {
      "cell_type": "code",
      "execution_count": null,
      "metadata": {
        "id": "ULzzFd67PWdd"
      },
      "outputs": [],
      "source": []
    },
    {
      "cell_type": "code",
      "execution_count": null,
      "metadata": {
        "id": "lAUm3DabPWdd",
        "outputId": "a1c282e1-f648-43f7-96cf-4229e181fbe4"
      },
      "outputs": [
        {
          "name": "stdout",
          "output_type": "stream",
          "text": [
            "Test Loss: 0.30213403701782227\n",
            "Test accuracy: 0.8984771370887756\n",
            "(1, 48, 48, 3)\n",
            "[[8.39535713e-01 7.76557578e-03 1.24645315e-01 1.83928394e-04\n",
            "  2.53597368e-03 2.52125170e-02 1.21115154e-04]]\n",
            "[0]\n",
            "[[1. 0. 0. 0. 0. 0. 0.]]\n"
          ]
        }
      ],
      "source": [
        "score = model.evaluate(X_test, y_test, verbose=0)\n",
        "print('Test Loss:', score[0])\n",
        "print('Test accuracy:', score[1])\n",
        "\n",
        "test_image = X_test[3:4]\n",
        "print (test_image.shape)\n",
        "\n",
        "print(model.predict(test_image))\n",
        "print(model.predict_classes(test_image))\n",
        "print(y_test[3:4])\n",
        "\n",
        "#predict\n",
        "y_pred = model.predict(X_test)"
      ]
    },
    {
      "cell_type": "code",
      "execution_count": null,
      "metadata": {
        "id": "xSLT-6MBPWdd"
      },
      "outputs": [],
      "source": [
        " from sklearn.metrics import multilabel_confusion_matrix\n"
      ]
    },
    {
      "cell_type": "code",
      "execution_count": null,
      "metadata": {
        "scrolled": true,
        "id": "fpZJLYVUPWdd",
        "outputId": "c5df96e4-cd32-4d14-b776-9d591ad232cb"
      },
      "outputs": [
        {
          "data": {
            "text/plain": [
              "array([[[168,   6],\n",
              "        [  3,  20]],\n",
              "\n",
              "       [[188,   0],\n",
              "        [  6,   3]],\n",
              "\n",
              "       [[165,   1],\n",
              "        [  0,  31]],\n",
              "\n",
              "       [[180,   0],\n",
              "        [  8,   9]],\n",
              "\n",
              "       [[158,   1],\n",
              "        [  0,  38]],\n",
              "\n",
              "       [[176,   0],\n",
              "        [ 11,  10]],\n",
              "\n",
              "       [[139,   0],\n",
              "        [  1,  57]]], dtype=int64)"
            ]
          },
          "execution_count": 46,
          "metadata": {},
          "output_type": "execute_result"
        }
      ],
      "source": [
        "y_pred = (y_pred>0.5)\n",
        "multilabel_confusion_matrix(y_test, y_pred )"
      ]
    },
    {
      "cell_type": "code",
      "execution_count": null,
      "metadata": {
        "id": "EyCfEkd3PWde",
        "outputId": "f56fd294-5acb-4b48-c229-9b08051d6ec3"
      },
      "outputs": [
        {
          "name": "stdout",
          "output_type": "stream",
          "text": [
            "number of images in anger =  135\n",
            "number of images in contempt =  54\n",
            "number of images in disgust =  177\n",
            "number of images in fear =  75\n",
            "number of images in happy =  207\n",
            "number of images in sadness =  84\n",
            "number of images in surprise =  249\n"
          ]
        }
      ],
      "source": [
        "for dataset in data_dir_list:\n",
        "    img_list = os.listdir(data_path+'/'+dataset)\n",
        "    print('number of images in '+str(dataset)+' = ',len(img_list))"
      ]
    },
    {
      "cell_type": "code",
      "execution_count": null,
      "metadata": {
        "scrolled": false,
        "id": "f-9ilqu7PWde",
        "outputId": "76ccb04f-4d72-4779-c04b-5195bf1bc7e1"
      },
      "outputs": [
        {
          "data": {
            "image/png": "[encoded data removed]",
            "text/plain": [
              "<Figure size 360x360 with 1 Axes>"
            ]
          },
          "metadata": {
            "needs_background": "light"
          },
          "output_type": "display_data"
        },
        {
          "name": "stdout",
          "output_type": "stream",
          "text": [
            "anger\n"
          ]
        }
      ],
      "source": [
        "plotImages(X_test[3])\n",
        "ans = int(model.predict_classes(test_image)[0])\n",
        "print(label_text[ans])"
      ]
    },
    {
      "cell_type": "code",
      "execution_count": null,
      "metadata": {
        "id": "O-nlYHBxPWde"
      },
      "outputs": [],
      "source": [
        "if os.path.isfile('model.h5') is False:\n",
        "    model.save('model.h5')"
      ]
    },
    {
      "cell_type": "code",
      "execution_count": null,
      "metadata": {
        "id": "SWFgX4AfPWde",
        "outputId": "51e9b2f8-059c-43a4-a392-da604b07682d"
      },
      "outputs": [
        {
          "name": "stdout",
          "output_type": "stream",
          "text": [
            "(1, 48, 48, 3)\n"
          ]
        },
        {
          "data": {
            "image/png": "[encoded data removed]",
            "text/plain": [
              "<Figure size 360x360 with 1 Axes>"
            ]
          },
          "metadata": {
            "needs_background": "light"
          },
          "output_type": "display_data"
        }
      ],
      "source": [
        "test_img = X_test[1:2]\n",
        "print(test_img.shape)\n",
        "plotImages(X_test[1])"
      ]
    },
    {
      "cell_type": "code",
      "execution_count": null,
      "metadata": {
        "id": "KzU7iBrcPWde",
        "outputId": "613ea3c7-c2f0-4a42-e7a5-fb3c94312dda"
      },
      "outputs": [
        {
          "data": {
            "text/plain": [
              "array([5], dtype=int64)"
            ]
          },
          "execution_count": 51,
          "metadata": {},
          "output_type": "execute_result"
        }
      ],
      "source": [
        "model.predict_classes(test_img)"
      ]
    },
    {
      "cell_type": "code",
      "execution_count": null,
      "metadata": {
        "id": "FlnizjFKPWde",
        "outputId": "8e5ae2dc-b542-4433-d721-0e9e983db54b"
      },
      "outputs": [
        {
          "data": {
            "text/plain": [
              "array([[0., 0., 0., 0., 0., 1., 0.]], dtype=float32)"
            ]
          },
          "execution_count": 52,
          "metadata": {},
          "output_type": "execute_result"
        }
      ],
      "source": [
        "y_test[1:2]"
      ]
    },
    {
      "cell_type": "code",
      "execution_count": null,
      "metadata": {
        "id": "r2s_ggb8PWde",
        "outputId": "72ab578f-3a29-4dc7-804a-e66aae201aeb"
      },
      "outputs": [
        {
          "data": {
            "text/plain": [
              "[]"
            ]
          },
          "execution_count": 53,
          "metadata": {},
          "output_type": "execute_result"
        }
      ],
      "source": [
        "xx = []\n",
        "xx"
      ]
    },
    {
      "cell_type": "code",
      "execution_count": null,
      "metadata": {
        "id": "AScInVA2PWde"
      },
      "outputs": [],
      "source": [
        "import imageio"
      ]
    },
    {
      "cell_type": "code",
      "execution_count": null,
      "metadata": {
        "id": "J5RqEEkePWde"
      },
      "outputs": [],
      "source": [
        "pic = imageio.imread('ex7.jpeg')"
      ]
    },
    {
      "cell_type": "code",
      "execution_count": null,
      "metadata": {
        "id": "sDWzERiLPWde",
        "outputId": "572f4bc8-5a9b-40ae-a2fa-c4a8e0313ea7"
      },
      "outputs": [
        {
          "data": {
            "text/plain": [
              "(184, 273, 3)"
            ]
          },
          "execution_count": 57,
          "metadata": {},
          "output_type": "execute_result"
        }
      ],
      "source": [
        "pic.shape"
      ]
    },
    {
      "cell_type": "code",
      "execution_count": null,
      "metadata": {
        "id": "v4TD2-KaPWde"
      },
      "outputs": [],
      "source": [
        "pic = cv2.resize(pic,(48,48))"
      ]
    },
    {
      "cell_type": "code",
      "execution_count": null,
      "metadata": {
        "id": "Ukb5fbrOPWde"
      },
      "outputs": [],
      "source": [
        "xx.append(pic)"
      ]
    },
    {
      "cell_type": "code",
      "execution_count": null,
      "metadata": {
        "id": "ET7RIvT6PWde"
      },
      "outputs": [],
      "source": [
        "xx = np.array(xx)\n",
        "xx = xx.astype('float32')\n",
        "xx = xx/255"
      ]
    },
    {
      "cell_type": "code",
      "execution_count": null,
      "metadata": {
        "id": "4lYdCyPiPWde",
        "outputId": "deb0033e-3e5a-41c5-8939-81f4f0f5d652"
      },
      "outputs": [
        {
          "data": {
            "text/plain": [
              "(1, 48, 48, 3)"
            ]
          },
          "execution_count": 61,
          "metadata": {},
          "output_type": "execute_result"
        }
      ],
      "source": [
        "xx.shape"
      ]
    },
    {
      "cell_type": "code",
      "execution_count": null,
      "metadata": {
        "scrolled": true,
        "id": "ocSFZHPQPWdf",
        "outputId": "2c0f5b1a-e46d-46c6-ddbb-ff3f474dd5e3"
      },
      "outputs": [
        {
          "data": {
            "text/plain": [
              "0"
            ]
          },
          "execution_count": 62,
          "metadata": {},
          "output_type": "execute_result"
        }
      ],
      "source": [
        "model.predict_classes(xx)[0]"
      ]
    },
    {
      "cell_type": "code",
      "execution_count": null,
      "metadata": {
        "id": "rOahAf7mPWdf",
        "outputId": "7b28f3e9-814e-4cd4-e5fc-f28bb2a2bb90"
      },
      "outputs": [
        {
          "data": {
            "image/png": "[encoded data removed]",
            "text/plain": [
              "<Figure size 360x360 with 1 Axes>"
            ]
          },
          "metadata": {
            "needs_background": "light"
          },
          "output_type": "display_data"
        }
      ],
      "source": [
        "plotImages(pic)"
      ]
    },
    {
      "cell_type": "code",
      "execution_count": null,
      "metadata": {
        "id": "uyZKCv5mPWdf",
        "outputId": "3d416ad4-a426-491a-ee72-83cdedf84699"
      },
      "outputs": [
        {
          "data": {
            "text/plain": [
              "['anger', 'contempt', 'disgust', 'fear', 'happy', 'sadness', 'surprise']"
            ]
          },
          "execution_count": 64,
          "metadata": {},
          "output_type": "execute_result"
        }
      ],
      "source": [
        "data_dir_list"
      ]
    },
    {
      "cell_type": "code",
      "source": [
        "import numpy as np\n",
        "import tensorflow as tf\n",
        "from tensorflow.keras.models import Sequential\n",
        "from tensorflow.keras.layers import Conv1D, MaxPooling1D, Dense, Flatten, Dropout\n",
        "from sklearn.model_selection import train_test_split\n",
        "from sklearn.preprocessing import StandardScaler\n",
        "\n",
        "class MalwareDetectionSystem:\n",
        "    def __init__(self):\n",
        "        self.model = None\n",
        "        self.scaler = StandardScaler()\n",
        "\n",
        "    def preprocess_binary_data(self, binary_data, max_length=1000):\n",
        "        \"\"\"\n",
        "        Convert binary file to numerical representation\n",
        "\n",
        "        Args:\n",
        "            binary_data (bytes): Raw binary file content\n",
        "            max_length (int): Maximum sequence length\n",
        "\n",
        "        Returns:\n",
        "            np.array: Preprocessed numerical representation\n",
        "        \"\"\"\n",
        "        # Convert bytes to numerical sequence\n",
        "        byte_sequence = list(binary_data[:max_length])\n",
        "\n",
        "        # Pad or truncate to fixed length\n",
        "        if len(byte_sequence) < max_length:\n",
        "            byte_sequence += [0] * (max_length - len(byte_sequence))\n",
        "        else:\n",
        "            byte_sequence = byte_sequence[:max_length]\n",
        "\n",
        "        return np.array(byte_sequence).reshape(-1, 1)\n",
        "\n",
        "    def build_cnn_model(self, input_shape):\n",
        "        \"\"\"\n",
        "        Create Convolutional Neural Network for malware detection\n",
        "\n",
        "        Args:\n",
        "            input_shape (tuple): Shape of input data\n",
        "\n",
        "        Returns:\n",
        "            tf.keras.Model: Compiled neural network model\n",
        "        \"\"\"\n",
        "        model = Sequential([\n",
        "            # 1D Convolutional layers for feature extraction\n",
        "            Conv1D(64, kernel_size=3, activation='relu', input_shape=input_shape),\n",
        "            MaxPooling1D(pool_size=2),\n",
        "\n",
        "            Conv1D(128, kernel_size=3, activation='relu'),\n",
        "            MaxPooling1D(pool_size=2),\n",
        "\n",
        "            # Flatten and add dense layers\n",
        "            Flatten(),\n",
        "            Dense(256, activation='relu'),\n",
        "            Dropout(0.5),\n",
        "\n",
        "            # Binary classification output\n",
        "            Dense(1, activation='sigmoid')\n",
        "        ])\n",
        "\n",
        "        model.compile(\n",
        "            optimizer='adam',\n",
        "            loss='binary_crossentropy',\n",
        "            metrics=['accuracy']\n",
        "        )\n",
        "\n",
        "        return model\n",
        "\n",
        "    def train_malware_detection_model(self, malware_samples, benign_samples):\n",
        "        \"\"\"\n",
        "        Train neural network on malware and benign samples\n",
        "\n",
        "        Args:\n",
        "            malware_samples (list): List of malware binary files\n",
        "            benign_samples (list): List of benign binary files\n",
        "        \"\"\"\n",
        "        # Prepare dataset\n",
        "        X_malware = np.array([\n",
        "            self.preprocess_binary_data(sample)\n",
        "            for sample in malware_samples\n",
        "        ])\n",
        "        X_benign = np.array([\n",
        "            self.preprocess_binary_data(sample)\n",
        "            for sample in benign_samples\n",
        "        ])\n",
        "\n",
        "        # Create labels\n",
        "        y_malware = np.ones(len(X_malware))\n",
        "        y_benign = np.zeros(len(X_benign))\n",
        "\n",
        "        # Combine datasets\n",
        "        X = np.concatenate([X_malware, X_benign])\n",
        "        y = np.concatenate([y_malware, y_benign])\n",
        "\n",
        "        # Split data\n",
        "        X_train, X_test, y_train, y_test = train_test_split(\n",
        "            X, y, test_size=0.2, random_state=42\n",
        "        )\n",
        "\n",
        "        # Scale features\n",
        "        X_train_scaled = self.scaler.fit_transform(X_train.reshape(-1, X_train.shape[-1]))\n",
        "        X_test_scaled = self.scaler.transform(X_test.reshape(-1, X_test.shape[-1]))\n",
        "\n",
        "        # Reshape for CNN\n",
        "        X_train_scaled = X_train_scaled.reshape(X_train.shape[0], X_train.shape[1], 1)\n",
        "        X_test_scaled = X_test_scaled.reshape(X_test.shape[0], X_test.shape[1], 1)\n",
        "\n",
        "        # Build and train model\n",
        "        self.model = self.build_cnn_model(input_shape=(X_train.shape[1], 1))\n",
        "\n",
        "        # Training\n",
        "        history = self.model.fit(\n",
        "            X_train_scaled, y_train,\n",
        "            epochs=10,\n",
        "            batch_size=32,\n",
        "            validation_split=0.2,\n",
        "            verbose=1\n",
        "        )\n",
        "\n",
        "        # Evaluate model\n",
        "        test_loss, test_accuracy = self.model.evaluate(\n",
        "            X_test_scaled, y_test, verbose=0\n",
        "        )\n",
        "        print(f\"Test Accuracy: {test_accuracy * 100:.2f}%\")\n",
        "\n",
        "        return history\n",
        "\n",
        "    def detect_malware(self, binary_file):\n",
        "        \"\"\"\n",
        "        Predict if a binary file is malicious\n",
        "\n",
        "        Args:\n",
        "            binary_file (bytes): Binary file content\n",
        "\n",
        "        Returns:\n",
        "            float: Probability of being malware\n",
        "        \"\"\"\n",
        "        if self.model is None:\n",
        "            raise ValueError(\"Model not trained. Train the model first.\")\n",
        "\n",
        "        # Preprocess input\n",
        "        preprocessed_data = self.preprocess_binary_data(binary_file)\n",
        "        scaled_data = self.scaler.transform(preprocessed_data)\n",
        "        scaled_data = scaled_data.reshape(1, scaled_data.shape[0], 1)\n",
        "\n",
        "        # Predict\n",
        "        prediction = self.model.predict(scaled_data)[0][0]\n",
        "        return prediction\n",
        "\n",
        "# Example Usage\n",
        "def main():\n",
        "    # Simulated binary data (replace with actual file reading)\n",
        "    malware_samples = [b'\\x01\\x02\\x03', b'\\x04\\x05\\x06']\n",
        "    benign_samples = [b'\\x07\\x08\\x09', b'\\x10\\x11\\x12']\n",
        "\n",
        "    # Create and train malware detection system\n",
        "    malware_detector = MalwareDetectionSystem()\n",
        "    malware_detector.train_malware_detection_model(\n",
        "        malware_samples,\n",
        "        benign_samples\n",
        "    )\n",
        "\n",
        "    # Test detection on a sample file\n",
        "    test_file = b'\\x01\\x02\\x03'\n",
        "    malware_probability = malware_detector.detect_malware(test_file)\n",
        "    print(f\"Malware Probability: {malware_probability * 100:.2f}%\")\n",
        "\n",
        "if __name__ == \"__main__\":\n",
        "    main()"
      ],
      "metadata": {
        "colab": {
          "base_uri": "https://localhost:8080/"
        },
        "id": "pOuK56JwQBpo",
        "outputId": "c83da282-07b2-4686-eabf-a05330984547"
      },
      "execution_count": null,
      "outputs": [
        {
          "output_type": "stream",
          "name": "stderr",
          "text": [
            "/usr/local/lib/python3.10/dist-packages/keras/src/layers/convolutional/base_conv.py:107: UserWarning: Do not pass an `input_shape`/`input_dim` argument to a layer. When using Sequential models, prefer using an `Input(shape)` object as the first layer in the model instead.\n",
            "  super().__init__(activity_regularizer=activity_regularizer, **kwargs)\n"
          ]
        },
        {
          "output_type": "stream",
          "name": "stdout",
          "text": [
            "Epoch 1/10\n",
            "\u001b[1m1/1\u001b[0m \u001b[32m━━━━━━━━━━━━━━━━━━━━\u001b[0m\u001b[37m\u001b[0m \u001b[1m6s\u001b[0m 6s/step - accuracy: 0.5000 - loss: 0.7520 - val_accuracy: 1.0000 - val_loss: 0.5797\n",
            "Epoch 2/10\n",
            "\u001b[1m1/1\u001b[0m \u001b[32m━━━━━━━━━━━━━━━━━━━━\u001b[0m\u001b[37m\u001b[0m \u001b[1m1s\u001b[0m 1s/step - accuracy: 0.5000 - loss: 0.6265 - val_accuracy: 1.0000 - val_loss: 0.5362\n",
            "Epoch 3/10\n",
            "\u001b[1m1/1\u001b[0m \u001b[32m━━━━━━━━━━━━━━━━━━━━\u001b[0m\u001b[37m\u001b[0m \u001b[1m0s\u001b[0m 206ms/step - accuracy: 0.5000 - loss: 0.5631 - val_accuracy: 1.0000 - val_loss: 0.4922\n",
            "Epoch 4/10\n",
            "\u001b[1m1/1\u001b[0m \u001b[32m━━━━━━━━━━━━━━━━━━━━\u001b[0m\u001b[37m\u001b[0m \u001b[1m0s\u001b[0m 301ms/step - accuracy: 0.5000 - loss: 0.5967 - val_accuracy: 1.0000 - val_loss: 0.4416\n",
            "Epoch 5/10\n",
            "\u001b[1m1/1\u001b[0m \u001b[32m━━━━━━━━━━━━━━━━━━━━\u001b[0m\u001b[37m\u001b[0m \u001b[1m0s\u001b[0m 401ms/step - accuracy: 0.5000 - loss: 0.5883 - val_accuracy: 1.0000 - val_loss: 0.3799\n",
            "Epoch 6/10\n",
            "\u001b[1m1/1\u001b[0m \u001b[32m━━━━━━━━━━━━━━━━━━━━\u001b[0m\u001b[37m\u001b[0m \u001b[1m0s\u001b[0m 329ms/step - accuracy: 0.5000 - loss: 0.4243 - val_accuracy: 1.0000 - val_loss: 0.3442\n",
            "Epoch 7/10\n",
            "\u001b[1m1/1\u001b[0m \u001b[32m━━━━━━━━━━━━━━━━━━━━\u001b[0m\u001b[37m\u001b[0m \u001b[1m0s\u001b[0m 290ms/step - accuracy: 0.5000 - loss: 0.4422 - val_accuracy: 1.0000 - val_loss: 0.3423\n",
            "Epoch 8/10\n",
            "\u001b[1m1/1\u001b[0m \u001b[32m━━━━━━━━━━━━━━━━━━━━\u001b[0m\u001b[37m\u001b[0m \u001b[1m0s\u001b[0m 231ms/step - accuracy: 0.5000 - loss: 0.3874 - val_accuracy: 1.0000 - val_loss: 0.3820\n",
            "Epoch 9/10\n",
            "\u001b[1m1/1\u001b[0m \u001b[32m━━━━━━━━━━━━━━━━━━━━\u001b[0m\u001b[37m\u001b[0m \u001b[1m0s\u001b[0m 285ms/step - accuracy: 1.0000 - loss: 0.3625 - val_accuracy: 1.0000 - val_loss: 0.4568\n",
            "Epoch 10/10\n",
            "\u001b[1m1/1\u001b[0m \u001b[32m━━━━━━━━━━━━━━━━━━━━\u001b[0m\u001b[37m\u001b[0m \u001b[1m0s\u001b[0m 295ms/step - accuracy: 1.0000 - loss: 0.2586 - val_accuracy: 1.0000 - val_loss: 0.5866\n",
            "Test Accuracy: 100.00%\n",
            "\u001b[1m1/1\u001b[0m \u001b[32m━━━━━━━━━━━━━━━━━━━━\u001b[0m\u001b[37m\u001b[0m \u001b[1m0s\u001b[0m 131ms/step\n",
            "Malware Probability: 71.68%\n"
          ]
        }
      ]
    },
    {
      "cell_type": "code",
      "source": [],
      "metadata": {
        "colab": {
          "base_uri": "https://localhost:8080/",
          "height": 418
        },
        "id": "fvNKnAIWRnv2",
        "outputId": "9c7535df-126a-4080-f34a-76db4f41acaa"
      },
      "execution_count": null,
      "outputs": [
        {
          "output_type": "stream",
          "name": "stdout",
          "text": [
            "\u001b[31mERROR: Could not find a version that satisfies the requirement python-magic-bin (from versions: none)\u001b[0m\u001b[31m\n",
            "\u001b[0m\u001b[31mERROR: No matching distribution found for python-magic-bin\u001b[0m\u001b[31m\n",
            "\u001b[0m"
          ]
        },
        {
          "output_type": "error",
          "ename": "ModuleNotFoundError",
          "evalue": "No module named 'magic'",
          "traceback": [
            "\u001b[0;31m---------------------------------------------------------------------------\u001b[0m",
            "\u001b[0;31mModuleNotFoundError\u001b[0m                       Traceback (most recent call last)",
            "\u001b[0;32m<ipython-input-14-76ff564be679>\u001b[0m in \u001b[0;36m<cell line: 11>\u001b[0;34m()\u001b[0m\n\u001b[1;32m      9\u001b[0m \u001b[0;32mfrom\u001b[0m \u001b[0msklearn\u001b[0m\u001b[0;34m.\u001b[0m\u001b[0mpreprocessing\u001b[0m \u001b[0;32mimport\u001b[0m \u001b[0mStandardScaler\u001b[0m\u001b[0;34m\u001b[0m\u001b[0;34m\u001b[0m\u001b[0m\n\u001b[1;32m     10\u001b[0m \u001b[0;32mimport\u001b[0m \u001b[0mstreamlit\u001b[0m \u001b[0;32mas\u001b[0m \u001b[0mst\u001b[0m\u001b[0;34m\u001b[0m\u001b[0;34m\u001b[0m\u001b[0m\n\u001b[0;32m---> 11\u001b[0;31m \u001b[0;32mimport\u001b[0m \u001b[0mmagic\u001b[0m  \u001b[0;31m# For file type detection # Import the module after installing\u001b[0m\u001b[0;34m\u001b[0m\u001b[0;34m\u001b[0m\u001b[0m\n\u001b[0m\u001b[1;32m     12\u001b[0m \u001b[0;34m\u001b[0m\u001b[0m\n\u001b[1;32m     13\u001b[0m \u001b[0;31m# ... (rest of your code) ...\u001b[0m\u001b[0;34m\u001b[0m\u001b[0;34m\u001b[0m\u001b[0m\n",
            "\u001b[0;31mModuleNotFoundError\u001b[0m: No module named 'magic'",
            "",
            "\u001b[0;31m---------------------------------------------------------------------------\u001b[0;32m\nNOTE: If your import is failing due to a missing package, you can\nmanually install dependencies using either !pip or !apt.\n\nTo view examples of installing some common dependencies, click the\n\"Open Examples\" button below.\n\u001b[0;31m---------------------------------------------------------------------------\u001b[0m\n"
          ],
          "errorDetails": {
            "actions": [
              {
                "action": "open_url",
                "actionText": "Open Examples",
                "url": "/notebooks/snippets/importing_libraries.ipynb"
              }
            ]
          }
        }
      ]
    },
    {
      "cell_type": "code",
      "source": [
        "!pip install zxcvbn\n",
        "import re\n",
        "import numpy as np\n",
        "import tensorflow as tf\n",
        "from tensorflow.keras.models import Sequential\n",
        "from tensorflow.keras.layers import Dense, Dropout\n",
        "import streamlit as st\n",
        "import zxcvbn\n",
        "import math\n",
        "\n",
        "class PasswordStrengthAnalyzer:\n",
        "    def __init__(self):\n",
        "        self.model = self.build_neural_network()\n",
        "\n",
        "    def build_neural_network(self):\n",
        "        \"\"\"\n",
        "        Create neural network for password strength analysis\n",
        "        \"\"\"\n",
        "        model = Sequential([\n",
        "            # Input layer with password features\n",
        "            Dense(64, activation='relu', input_shape=(7,)),\n",
        "            Dropout(0.2),\n",
        "\n",
        "            # Hidden layers\n",
        "            Dense(32, activation='relu'),\n",
        "            Dropout(0.2),\n",
        "            Dense(16, activation='relu'),\n",
        "\n",
        "            # Output layer\n",
        "            Dense(1, activation='sigmoid')\n",
        "        ])\n",
        "\n",
        "        model.compile(\n",
        "            optimizer='adam',\n",
        "            loss='binary_crossentropy',\n",
        "            metrics=['accuracy']\n",
        "        )\n",
        "\n",
        "        return model\n",
        "\n",
        "    def extract_password_features(self, password):\n",
        "        \"\"\"\n",
        "        Extract comprehensive password features\n",
        "\n",
        "        Features:\n",
        "        1. Length\n",
        "        2. Uppercase count\n",
        "        3. Lowercase count\n",
        "        4. Number count\n",
        "        5. Special character count\n",
        "        6. Entropy\n",
        "        7. Complexity score\n",
        "        \"\"\"\n",
        "        features = [\n",
        "            len(password),  # Length\n",
        "            sum(1 for c in password if c.isupper()),  # Uppercase count\n",
        "            sum(1 for c in password if c.islower()),  # Lowercase count\n",
        "            sum(1 for c in password if c.isdigit()),  # Number count\n",
        "            sum(1 for c in password if not c.isalnum()),  # Special char count\n",
        "            self.calculate_entropy(password),  # Entropy\n",
        "            self.calculate_complexity_score(password)  # Complexity score\n",
        "        ]\n",
        "\n",
        "        return np.array(features).reshape(1, -1)\n",
        "\n",
        "    def calculate_entropy(self, password):\n",
        "        \"\"\"\n",
        "        Calculate password entropy\n",
        "        \"\"\"\n",
        "        # Count character frequencies\n",
        "        char_freq = {}\n",
        "        for char in password:\n",
        "            char_freq[char] = char_freq.get(char, 0) + 1\n",
        "\n",
        "        # Calculate entropy\n",
        "        entropy = 0\n",
        "        for freq in char_freq.values():\n",
        "            prob = freq / len(password)\n",
        "            entropy -= prob * math.log2(prob)\n",
        "\n",
        "        return entropy\n",
        "\n",
        "    def calculate_complexity_score(self, password):\n",
        "        \"\"\"\n",
        "        Calculate password complexity using multiple criteria\n",
        "        \"\"\"\n",
        "        # Use zxcvbn for comprehensive strength analysis\n",
        "        result = zxcvbn.zxcvbn(password)\n",
        "        return result['score']\n",
        "\n",
        "    def analyze_password_strength(self, password):\n",
        "        \"\"\"\n",
        "        Comprehensive password strength analysis\n",
        "        \"\"\"\n",
        "        # Extract features\n",
        "        features = self.extract_password_features(password)\n",
        "\n",
        "        # Use zxcvbn for detailed analysis\n",
        "        zxcvbn_result = zxcvbn.zxcvbn(password)\n",
        "\n",
        "        # Predict strength using neural network\n",
        "        strength_prediction = self.model.predict(features)[0][0]\n",
        "\n",
        "        # Prepare detailed analysis\n",
        "        analysis = {\n",
        "            \"length\": len(password),\n",
        "            \"entropy\": self.calculate_entropy(password),\n",
        "            \"complexity_score\": self.calculate_complexity_score(password),\n",
        "            \"neural_strength_score\": float(strength_prediction),\n",
        "            \"zxcvbn_score\": zxcvbn_result['score'],\n",
        "            \"zxcvbn_feedback\": zxcvbn_result['feedback']\n",
        "        }\n",
        "\n",
        "        return analysis\n",
        "\n",
        "    def generate_password_recommendations(self, analysis):\n",
        "        \"\"\"\n",
        "        Generate password improvement recommendations\n",
        "        \"\"\"\n",
        "        recommendations = []\n",
        "\n",
        "        # Length recommendations\n",
        "        if analysis['length'] < 8:\n",
        "            recommendations.append(\"Password is too short. Aim for at least 12 characters.\")\n",
        "\n",
        "        # Complexity recommendations\n",
        "        if analysis['complexity_score'] < 3:\n",
        "            recommendations.append(\"Increase password complexity by adding:\")\n",
        "            recommendations.append(\"- Uppercase letters\")\n",
        "            recommendations.append(\"- Lowercase letters\")\n",
        "            recommendations.append(\"- Numbers\")\n",
        "            recommendations.append(\"- Special characters\")\n",
        "\n",
        "        # Entropy recommendations\n",
        "        if analysis['entropy'] < 3:\n",
        "            recommendations.append(\"Low character diversity. Use a mix of different character types.\")\n",
        "\n",
        "        return recommendations\n",
        "\n",
        "def main():\n",
        "    st.title(\"🔐 Advanced Password Strength Analyzer\")\n",
        "\n",
        "    # Sidebar for additional information\n",
        "    st.sidebar.header(\"Password Security Tips\")\n",
        "    st.sidebar.info(\"\"\"\n",
        "    🛡️ Strong Password Guidelines:\n",
        "    - Minimum 12 characters\n",
        "    - Mix of uppercase and lowercase\n",
        "    - Include numbers and symbols\n",
        "    - Avoid common words or patterns\n",
        "    - Use unique passwords for each account\n",
        "    \"\"\")\n",
        "\n",
        "    # Password input\n",
        "    password = st.text_input(\"Enter Password\", type=\"password\")\n",
        "\n",
        "    if password:\n",
        "        # Create analyzer\n",
        "        analyzer = PasswordStrengthAnalyzer()\n",
        "\n",
        "        # Analyze password\n",
        "        analysis = analyzer.analyze_password_strength(password)\n",
        "\n",
        "        # Generate recommendations\n",
        "        recommendations = analyzer.generate_password_recommendations(analysis)\n",
        "\n",
        "        # Results display\n",
        "        st.subheader(\"Password Analysis Results\")\n",
        "\n",
        "        # Strength Visualization\n",
        "        strength_color = {\n",
        "            0: \"red\",\n",
        "            1: \"orange\",\n",
        "            2: \"yellow\",\n",
        "            3: \"green\",\n",
        "            4: \"green\"\n",
        "        }\n",
        "\n",
        "        st.markdown(f\"\"\"\n",
        "        ### Strength Assessment\n",
        "        **Complexity Score:**\n",
        "        <span style='color:{strength_color.get(analysis[\"zxcvbn_score\"], \"black\")}'>\n",
        "        {\"★\" * (analysis[\"zxcvbn_score\"] + 1)}\n",
        "        ({[\"Very Weak\", \"Weak\", \"Medium\", \"Strong\", \"Very Strong\"][analysis[\"zxcvbn_score\"]]})\n",
        "        </span>\n",
        "        \"\"\", unsafe_allow_html=True)\n",
        "\n",
        "        # Detailed Metrics\n",
        "        col1, col2, col3 = st.columns(3)\n",
        "\n",
        "        with col1:\n",
        "            st.metric(\"Password Length\", analysis['length'])\n",
        "\n",
        "        with col2:\n",
        "            st.metric(\"Entropy\", f\"{analysis['entropy']:.2f}\")\n",
        "\n",
        "        with col3:\n",
        "            st.metric(\"Neural Strength\", f\"{analysis['neural_strength_score']:.2%}\")\n",
        "\n",
        "        # Recommendations\n",
        "        if recommendations:\n",
        "            st.subheader(\"🚀 Improvement Recommendations\")\n",
        "            for rec in recommendations:\n",
        "                st.warning(rec)\n",
        "\n",
        "        # Additional Security Insights\n",
        "        st.subheader(\"Security Insights\")\n",
        "        if analysis['zxcvbn_feedback']['suggestions']:\n",
        "            st.info(\"Suggestions: \" +\n",
        "                    \". \".join(analysis['zxcvbn_feedback']['suggestions']))\n",
        "\n",
        "        if analysis['zxcvbn_feedback']['warning']:\n",
        "            st.warning(\"Warning: \" + analysis['zxcvbn_feedback']['warning'])\n",
        "\n",
        "if __name__ == \"__main__\":\n",
        "    main()"
      ],
      "metadata": {
        "colab": {
          "base_uri": "https://localhost:8080/"
        },
        "id": "SylYJjRGTPdT",
        "outputId": "858de0e5-d427-4912-c7d3-34a4b35e304d"
      },
      "execution_count": null,
      "outputs": [
        {
          "output_type": "stream",
          "name": "stdout",
          "text": [
            "Collecting zxcvbn\n",
            "  Downloading zxcvbn-4.4.28.tar.gz (407 kB)\n",
            "\u001b[?25l     \u001b[90m━━━━━━━━━━━━━━━━━━━━━━━━━━━━━━━━━━━━━━━━\u001b[0m \u001b[32m0.0/407.9 kB\u001b[0m \u001b[31m?\u001b[0m eta \u001b[36m-:--:--\u001b[0m\r\u001b[2K     \u001b[91m━━━━━━━━━━━━━━\u001b[0m\u001b[90m╺\u001b[0m\u001b[90m━━━━━━━━━━━━━━━━━━━━━━━━━\u001b[0m \u001b[32m143.4/407.9 kB\u001b[0m \u001b[31m4.0 MB/s\u001b[0m eta \u001b[36m0:00:01\u001b[0m\r\u001b[2K     \u001b[90m━━━━━━━━━━━━━━━━━━━━━━━━━━━━━━━━━━━━━━━━\u001b[0m \u001b[32m407.9/407.9 kB\u001b[0m \u001b[31m5.6 MB/s\u001b[0m eta \u001b[36m0:00:00\u001b[0m\n",
            "\u001b[?25h  Preparing metadata (setup.py) ... \u001b[?25l\u001b[?25hdone\n",
            "Building wheels for collected packages: zxcvbn\n",
            "  Building wheel for zxcvbn (setup.py) ... \u001b[?25l\u001b[?25hdone\n",
            "  Created wheel for zxcvbn: filename=zxcvbn-4.4.28-py2.py3-none-any.whl size=408125 sha256=81479df8d2421162d8ecb2bf3659de638447e531d0ceccd47cd3a6d56a11da1e\n",
            "  Stored in directory: /root/.cache/pip/wheels/ef/89/c6/a0e065af99073821bb4b83f6ec0561e981fc00498fe8e9c45d\n",
            "Successfully built zxcvbn\n",
            "Installing collected packages: zxcvbn\n",
            "Successfully installed zxcvbn-4.4.28\n"
          ]
        },
        {
          "output_type": "stream",
          "name": "stderr",
          "text": [
            "2024-12-04 10:53:25.421 WARNING streamlit.runtime.scriptrunner_utils.script_run_context: Thread 'MainThread': missing ScriptRunContext! This warning can be ignored when running in bare mode.\n",
            "2024-12-04 10:53:25.563 \n",
            "  \u001b[33m\u001b[1mWarning:\u001b[0m to view this Streamlit app on a browser, run it with the following\n",
            "  command:\n",
            "\n",
            "    streamlit run /usr/local/lib/python3.10/dist-packages/colab_kernel_launcher.py [ARGUMENTS]\n",
            "2024-12-04 10:53:25.566 Thread 'MainThread': missing ScriptRunContext! This warning can be ignored when running in bare mode.\n",
            "2024-12-04 10:53:25.569 Thread 'MainThread': missing ScriptRunContext! This warning can be ignored when running in bare mode.\n",
            "2024-12-04 10:53:25.572 Thread 'MainThread': missing ScriptRunContext! This warning can be ignored when running in bare mode.\n",
            "2024-12-04 10:53:25.578 Thread 'MainThread': missing ScriptRunContext! This warning can be ignored when running in bare mode.\n",
            "2024-12-04 10:53:25.580 Thread 'MainThread': missing ScriptRunContext! This warning can be ignored when running in bare mode.\n",
            "2024-12-04 10:53:25.582 Thread 'MainThread': missing ScriptRunContext! This warning can be ignored when running in bare mode.\n",
            "2024-12-04 10:53:25.586 Thread 'MainThread': missing ScriptRunContext! This warning can be ignored when running in bare mode.\n",
            "2024-12-04 10:53:25.588 Thread 'MainThread': missing ScriptRunContext! This warning can be ignored when running in bare mode.\n",
            "2024-12-04 10:53:25.591 Thread 'MainThread': missing ScriptRunContext! This warning can be ignored when running in bare mode.\n",
            "2024-12-04 10:53:25.595 Session state does not function when running a script without `streamlit run`\n",
            "2024-12-04 10:53:25.598 Thread 'MainThread': missing ScriptRunContext! This warning can be ignored when running in bare mode.\n",
            "2024-12-04 10:53:25.599 Thread 'MainThread': missing ScriptRunContext! This warning can be ignored when running in bare mode.\n"
          ]
        }
      ]
    },
    {
      "cell_type": "code",
      "source": [
        "!pip install dash\n",
        "import re\n",
        "import numpy as np\n",
        "import math\n",
        "import dash\n",
        "from dash import dcc, html\n",
        "from dash.dependencies import Input, Output\n",
        "import tensorflow as tf\n",
        "from tensorflow.keras.models import Sequential\n",
        "from tensorflow.keras.layers import Dense, Dropout\n",
        "import zxcvbn\n",
        "\n",
        "# Initialize Dash App\n",
        "app = dash.Dash(__name__)\n",
        "\n",
        "class PasswordStrengthAnalyzer:\n",
        "    def __init__(self):\n",
        "        self.model = self.build_neural_network()\n",
        "\n",
        "    def build_neural_network(self):\n",
        "        \"\"\"\n",
        "        Create neural network for password strength analysis\n",
        "        \"\"\"\n",
        "        model = Sequential([\n",
        "            # Input layer with password features\n",
        "            Dense(64, activation='relu', input_shape=(7,)),\n",
        "            Dropout(0.2),\n",
        "\n",
        "            # Hidden layers\n",
        "            Dense(32, activation='relu'),\n",
        "            Dropout(0.2),\n",
        "            Dense(16, activation='relu'),\n",
        "\n",
        "            # Output layer\n",
        "            Dense(1, activation='sigmoid')\n",
        "        ])\n",
        "\n",
        "        model.compile(\n",
        "            optimizer='adam',\n",
        "            loss='binary_crossentropy',\n",
        "            metrics=['accuracy']\n",
        "        )\n",
        "\n",
        "        return model\n",
        "\n",
        "    def extract_password_features(self, password):\n",
        "        \"\"\"\n",
        "        Extract comprehensive password features\n",
        "        Features:\n",
        "        1. Length\n",
        "        2. Uppercase count\n",
        "        3. Lowercase count\n",
        "        4. Number count\n",
        "        5. Special character count\n",
        "        6. Entropy\n",
        "        7. Complexity score\n",
        "        \"\"\"\n",
        "        features = [\n",
        "            len(password),  # Length\n",
        "            sum(1 for c in password if c.isupper()),  # Uppercase count\n",
        "            sum(1 for c in password if c.islower()),  # Lowercase count\n",
        "            sum(1 for c in password if c.isdigit()),  # Number count\n",
        "            sum(1 for c in password if not c.isalnum()),  # Special char count\n",
        "            self.calculate_entropy(password),  # Entropy\n",
        "            self.calculate_complexity_score(password)  # Complexity score\n",
        "        ]\n",
        "\n",
        "        return np.array(features).reshape(1, -1)\n",
        "\n",
        "    def calculate_entropy(self, password):\n",
        "        \"\"\"\n",
        "        Calculate password entropy\n",
        "        \"\"\"\n",
        "        # Count character frequencies\n",
        "        char_freq = {}\n",
        "        for char in password:\n",
        "            char_freq[char] = char_freq.get(char, 0) + 1\n",
        "\n",
        "        # Calculate entropy\n",
        "        entropy = 0\n",
        "        for freq in char_freq.values():\n",
        "            prob = freq / len(password)\n",
        "            entropy -= prob * math.log2(prob)\n",
        "\n",
        "        return entropy\n",
        "\n",
        "    def calculate_complexity_score(self, password):\n",
        "        \"\"\"\n",
        "        Calculate password complexity using multiple criteria\n",
        "        \"\"\"\n",
        "        # Use zxcvbn for comprehensive strength analysis\n",
        "        result = zxcvbn.zxcvbn(password)\n",
        "        return result['score']\n",
        "\n",
        "    def analyze_password_strength(self, password):\n",
        "        \"\"\"\n",
        "        Comprehensive password strength analysis\n",
        "        \"\"\"\n",
        "        # Extract features\n",
        "        features = self.extract_password_features(password)\n",
        "\n",
        "        # Use zxcvbn for detailed analysis\n",
        "        zxcvbn_result = zxcvbn.zxcvbn(password)\n",
        "\n",
        "        # Predict strength using neural network\n",
        "        strength_prediction = self.model.predict(features)[0][0]\n",
        "\n",
        "        # Prepare detailed analysis\n",
        "        analysis = {\n",
        "            \"length\": len(password),\n",
        "            \"entropy\": self.calculate_entropy(password),\n",
        "            \"complexity_score\": self.calculate_complexity_score(password),\n",
        "            \"neural_strength_score\": float(strength_prediction),\n",
        "            \"zxcvbn_score\": zxcvbn_result['score'],\n",
        "            \"zxcvbn_feedback\": zxcvbn_result['feedback']\n",
        "        }\n",
        "\n",
        "        return analysis\n",
        "\n",
        "    def generate_password_recommendations(self, analysis):\n",
        "        \"\"\"\n",
        "        Generate password improvement recommendations\n",
        "        \"\"\"\n",
        "        recommendations = []\n",
        "\n",
        "        # Length recommendations\n",
        "        if analysis['length'] < 8:\n",
        "            recommendations.append(\"Password is too short. Aim for at least 12 characters.\")\n",
        "\n",
        "        # Complexity recommendations\n",
        "        if analysis['complexity_score'] < 3:\n",
        "            recommendations.append(\"Increase password complexity by adding:\")\n",
        "            recommendations.append(\"- Uppercase letters\")\n",
        "            recommendations.append(\"- Lowercase letters\")\n",
        "            recommendations.append(\"- Numbers\")\n",
        "            recommendations.append(\"- Special characters\")\n",
        "\n",
        "        # Entropy recommendations\n",
        "        if analysis['entropy'] < 3:\n",
        "            recommendations.append(\"Low character diversity. Use a mix of different character types.\")\n",
        "\n",
        "        return recommendations\n",
        "\n",
        "# Dash layout\n",
        "app.layout = html.Div([\n",
        "    html.H1(\"🔐 Advanced Password Strength Analyzer\"),\n",
        "    html.Div([\n",
        "        html.Label(\"Enter Password:\"),\n",
        "        dcc.Input(id=\"password-input\", type=\"password\", debounce=True, style={'width': '80%'})\n",
        "    ], style={'padding': '10px'}),\n",
        "\n",
        "    html.Div(id=\"analysis-results\"),\n",
        "    html.Div(id=\"recommendations\"),\n",
        "    html.Div(id=\"security-insights\")\n",
        "])\n",
        "\n",
        "@app.callback(\n",
        "    [Output(\"analysis-results\", \"children\"),\n",
        "     Output(\"recommendations\", \"children\"),\n",
        "     Output(\"security-insights\", \"children\")],\n",
        "    [Input(\"password-input\", \"value\")]\n",
        ")\n",
        "def update_password_analysis(password):\n",
        "    if password:\n",
        "        analyzer = PasswordStrengthAnalyzer()\n",
        "        analysis = analyzer.analyze_password_strength(password)\n",
        "        recommendations = analyzer.generate_password_recommendations(analysis)\n",
        "\n",
        "        # Results display\n",
        "        strength_color = {\n",
        "            0: \"red\",\n",
        "            1: \"orange\",\n",
        "            2: \"yellow\",\n",
        "            3: \"green\",\n",
        "            4: \"green\"\n",
        "        }\n",
        "\n",
        "        strength_assessment = html.Div([\n",
        "            html.H4(\"Password Strength: \"),\n",
        "            html.P(f\"Complexity Score: {analysis['zxcvbn_score']}\"),\n",
        "            html.Div([\n",
        "                html.Div(f\"Length: {analysis['length']}\", style={'width': '33%', 'display': 'inline-block'}),\n",
        "                html.Div(f\"Entropy: {analysis['entropy']:.2f}\", style={'width': '33%', 'display': 'inline-block'}),\n",
        "                html.Div(f\"Neural Strength: {analysis['neural_strength_score']:.2%}\", style={'width': '33%', 'display': 'inline-block'}),\n",
        "            ], style={'padding': '10px'}),\n",
        "            html.Div([\n",
        "                html.P(f\"Password Strength: {['Very Weak', 'Weak', 'Medium', 'Strong', 'Very Strong'][analysis['zxcvbn_score']]}\",\n",
        "                    style={'color': strength_color.get(analysis[\"zxcvbn_score\"], \"black\")})\n",
        "            ])\n",
        "        ])\n",
        "\n",
        "        # Recommendations\n",
        "        recommendations_output = html.Div()\n",
        "        if recommendations:\n",
        "            recommendations_output = html.Div([\n",
        "                html.H4(\"🚀 Improvement Recommendations\"),\n",
        "                html.Ul([html.Li(rec) for rec in recommendations])\n",
        "            ])\n",
        "\n",
        "        # Security Insights\n",
        "        security_insights_output = html.Div()\n",
        "        if analysis['zxcvbn_feedback']['suggestions']:\n",
        "            security_insights_output = html.Div([\n",
        "                html.H4(\"Security Insights:\"),\n",
        "                html.P(\"Suggestions: \" + \". \".join(analysis['zxcvbn_feedback']['suggestions']))\n",
        "            ])\n",
        "\n",
        "        if analysis['zxcvbn_feedback']['warning']:\n",
        "            security_insights_output = html.Div([\n",
        "                html.H4(\"Security Insights:\"),\n",
        "                html.P(\"Warning: \" + analysis['zxcvbn_feedback']['warning'], style={'color': 'red'})\n",
        "            ])\n",
        "\n",
        "        return strength_assessment, recommendations_output, security_insights_output\n",
        "\n",
        "    return \"\", \"\", \"\"\n",
        "\n",
        "if __name__ == \"__main__\":\n",
        "    app.run_server(debug=True)\n"
      ],
      "metadata": {
        "colab": {
          "base_uri": "https://localhost:8080/",
          "height": 1000
        },
        "id": "mBJsRS9PUTPM",
        "outputId": "d9c02e89-42b3-4c59-cae4-da410b4689d4"
      },
      "execution_count": null,
      "outputs": [
        {
          "output_type": "stream",
          "name": "stdout",
          "text": [
            "Requirement already satisfied: dash in /usr/local/lib/python3.10/dist-packages (2.18.2)\n",
            "Requirement already satisfied: Flask<3.1,>=1.0.4 in /usr/local/lib/python3.10/dist-packages (from dash) (3.0.3)\n",
            "Requirement already satisfied: Werkzeug<3.1 in /usr/local/lib/python3.10/dist-packages (from dash) (3.0.6)\n",
            "Requirement already satisfied: plotly>=5.0.0 in /usr/local/lib/python3.10/dist-packages (from dash) (5.24.1)\n",
            "Requirement already satisfied: dash-html-components==2.0.0 in /usr/local/lib/python3.10/dist-packages (from dash) (2.0.0)\n",
            "Requirement already satisfied: dash-core-components==2.0.0 in /usr/local/lib/python3.10/dist-packages (from dash) (2.0.0)\n",
            "Requirement already satisfied: dash-table==5.0.0 in /usr/local/lib/python3.10/dist-packages (from dash) (5.0.0)\n",
            "Requirement already satisfied: importlib-metadata in /usr/local/lib/python3.10/dist-packages (from dash) (8.5.0)\n",
            "Requirement already satisfied: typing-extensions>=4.1.1 in /usr/local/lib/python3.10/dist-packages (from dash) (4.12.2)\n",
            "Requirement already satisfied: requests in /usr/local/lib/python3.10/dist-packages (from dash) (2.32.3)\n",
            "Requirement already satisfied: retrying in /usr/local/lib/python3.10/dist-packages (from dash) (1.3.4)\n",
            "Requirement already satisfied: nest-asyncio in /usr/local/lib/python3.10/dist-packages (from dash) (1.6.0)\n",
            "Requirement already satisfied: setuptools in /usr/local/lib/python3.10/dist-packages (from dash) (75.1.0)\n",
            "Requirement already satisfied: Jinja2>=3.1.2 in /usr/local/lib/python3.10/dist-packages (from Flask<3.1,>=1.0.4->dash) (3.1.4)\n",
            "Requirement already satisfied: itsdangerous>=2.1.2 in /usr/local/lib/python3.10/dist-packages (from Flask<3.1,>=1.0.4->dash) (2.2.0)\n",
            "Requirement already satisfied: click>=8.1.3 in /usr/local/lib/python3.10/dist-packages (from Flask<3.1,>=1.0.4->dash) (8.1.7)\n",
            "Requirement already satisfied: blinker>=1.6.2 in /usr/local/lib/python3.10/dist-packages (from Flask<3.1,>=1.0.4->dash) (1.9.0)\n",
            "Requirement already satisfied: tenacity>=6.2.0 in /usr/local/lib/python3.10/dist-packages (from plotly>=5.0.0->dash) (9.0.0)\n",
            "Requirement already satisfied: packaging in /usr/local/lib/python3.10/dist-packages (from plotly>=5.0.0->dash) (24.2)\n",
            "Requirement already satisfied: MarkupSafe>=2.1.1 in /usr/local/lib/python3.10/dist-packages (from Werkzeug<3.1->dash) (3.0.2)\n",
            "Requirement already satisfied: zipp>=3.20 in /usr/local/lib/python3.10/dist-packages (from importlib-metadata->dash) (3.21.0)\n",
            "Requirement already satisfied: charset-normalizer<4,>=2 in /usr/local/lib/python3.10/dist-packages (from requests->dash) (3.4.0)\n",
            "Requirement already satisfied: idna<4,>=2.5 in /usr/local/lib/python3.10/dist-packages (from requests->dash) (3.10)\n",
            "Requirement already satisfied: urllib3<3,>=1.21.1 in /usr/local/lib/python3.10/dist-packages (from requests->dash) (2.2.3)\n",
            "Requirement already satisfied: certifi>=2017.4.17 in /usr/local/lib/python3.10/dist-packages (from requests->dash) (2024.8.30)\n",
            "Requirement already satisfied: six>=1.7.0 in /usr/local/lib/python3.10/dist-packages (from retrying->dash) (1.16.0)\n"
          ]
        },
        {
          "output_type": "display_data",
          "data": {
            "text/plain": [
              "<IPython.core.display.Javascript object>"
            ],
            "application/javascript": [
              "(async (port, path, width, height, cache, element) => {\n",
              "    if (!google.colab.kernel.accessAllowed && !cache) {\n",
              "      return;\n",
              "    }\n",
              "    element.appendChild(document.createTextNode(''));\n",
              "    const url = await google.colab.kernel.proxyPort(port, {cache});\n",
              "    const iframe = document.createElement('iframe');\n",
              "    iframe.src = new URL(path, url).toString();\n",
              "    iframe.height = height;\n",
              "    iframe.width = width;\n",
              "    iframe.style.border = 0;\n",
              "    iframe.allow = [\n",
              "        'accelerometer',\n",
              "        'autoplay',\n",
              "        'camera',\n",
              "        'clipboard-read',\n",
              "        'clipboard-write',\n",
              "        'gyroscope',\n",
              "        'magnetometer',\n",
              "        'microphone',\n",
              "        'serial',\n",
              "        'usb',\n",
              "        'xr-spatial-tracking',\n",
              "    ].join('; ');\n",
              "    element.appendChild(iframe);\n",
              "  })(8050, \"/\", \"100%\", 650, false, window.element)"
            ]
          },
          "metadata": {}
        }
      ]
    },
    {
      "cell_type": "code",
      "source": [
        "import pandas as pd\n",
        "import numpy as np\n",
        "import cv2\n",
        "from tensorflow import keras\n",
        "import tensorflow as tf\n",
        "import os\n",
        "import matplotlib.pyplot as plt\n",
        "from sklearn.utils import shuffle\n",
        "from sklearn.model_selection import train_test_split\n",
        "from tensorflow.keras.models import Sequential\n",
        "from tensorflow.keras.layers import Dense, Activation, Dropout, Flatten, MaxPooling2D, Conv2D\n",
        "from tensorflow.keras.preprocessing.image import ImageDataGenerator\n",
        "from tensorflow.keras.callbacks import ModelCheckpoint, EarlyStopping, ReduceLROnPlateau\n",
        "from tensorflow.keras.optimizers import Nadam, Adam\n",
        "from sklearn.metrics import confusion_matrix, multilabel_confusion_matrix\n",
        "import seaborn as sns\n",
        "import imageio\n",
        "\n",
        "# Data loading and preprocessing\n",
        "img_data = []\n",
        "img = cv2.imread('/content/happy.jpg')  # Path to the uploaded image in Google Colab's files section\n",
        "img = cv2.resize(img, (48, 48))\n",
        "img_data.append(img)\n",
        "\n",
        "img_data = np.array(img_data).astype('float32') / 255\n",
        "labels = np.array([4])  # Label corresponding to 'happiness'\n",
        "\n",
        "label_text = {0: 'anger', 1: 'contempt', 2: 'disgust', 3: 'fear', 4: 'happiness', 5: 'sadness', 6: 'surprise'}\n",
        "\n",
        "def plotImages(image):\n",
        "    plt.imshow(image)\n",
        "    plt.axis('off')\n",
        "    plt.show()\n",
        "\n",
        "# Model creation\n",
        "def create_model(optim):\n",
        "    input_shape = (48, 48, 3)\n",
        "    model = Sequential([\n",
        "        Conv2D(6, (5, 5), input_shape=input_shape, padding='same', activation='relu'),\n",
        "        MaxPooling2D(pool_size=(2, 2)),\n",
        "        Conv2D(16, (5, 5), padding='same', activation='relu'),\n",
        "        MaxPooling2D(pool_size=(2, 2)),\n",
        "        Conv2D(64, (3, 3), activation='relu'),\n",
        "        MaxPooling2D(pool_size=(2, 2)),\n",
        "        Flatten(),\n",
        "        Dense(128, activation='relu'),\n",
        "        Dropout(0.5),\n",
        "        Dense(7, activation='softmax')\n",
        "    ])\n",
        "    model.compile(loss='categorical_crossentropy', metrics=['accuracy'], optimizer=optim)\n",
        "    return model\n",
        "\n",
        "# Data augmentation\n",
        "aug = ImageDataGenerator(rotation_range=25, width_shift_range=0.1,\n",
        "                         height_shift_range=0.1, shear_range=0.2,\n",
        "                         zoom_range=0.2, horizontal_flip=True,\n",
        "                         fill_mode='nearest')\n",
        "\n",
        "# Data loading and preprocessing\n",
        "# ... (Existing code) ...\n",
        "\n",
        "# Data preparation\n",
        "labels_categorical = keras.utils.to_categorical(labels, num_classes=7)\n",
        "x, y = shuffle(img_data, labels_categorical, random_state=3)\n",
        "\n",
        "# Instead of splitting with train_test_split, use the whole data for training\n",
        "X_train, y_train = x, y\n",
        "X_test, y_test = x, y  # or use a separate test set if available\n",
        "\n",
        "# Training setup\n",
        "early_stopping = EarlyStopping(monitor='val_accuracy', patience=11, verbose=1, restore_best_weights=True)\n",
        "lr_scheduler = ReduceLROnPlateau(monitor='val_accuracy', factor=0.5, patience=7, min_lr=1e-7, verbose=1)\n",
        "callbacks = [early_stopping, lr_scheduler]\n",
        "\n",
        "model = create_model(Adam(learning_rate=0.001))\n",
        "model.summary()\n",
        "\n",
        "# Training\n",
        "\n",
        "# Evaluation\n",
        "results = model.predict(X_test)model.fit(x=X_train, y=y_train, validation_split=0.0, # Change to 0.0 or Remove validation_split\n",
        "          batch_size=32, epochs=100, shuffle=True, verbose=2, callbacks=callbacks)\n",
        "y_pred = np.argmax(results, axis=1)\n",
        "y_true = np.argmax(y_test, axis=1)\n",
        "cm = confusion_matrix(y_true, y_pred)\n",
        "\n",
        "sns.heatmap(cm, annot=True, cmap='Greys', cbar=False, fmt='d', xticklabels=label_text.values(), yticklabels=label_text.values())\n",
        "plt.xlabel('Predicted')\n",
        "plt.ylabel('True')\n",
        "plt.title('Confusion Matrix')\n",
        "plt.show()\n",
        "\n",
        "# Save model\n",
        "if not os.path.isfile('model.h5'):\n",
        "    model.save('model.h5')\n",
        "\n",
        "# Testing\n",
        "test_img = X_test[0:1]  # Update to test the single image\n",
        "plotImages(X_test[0])\n",
        "print(f\"Predicted: {label_text[np.argmax(model.predict(test_img)[0])]}, Actual: {label_text[np.argmax(y_test[0])]}\")"
      ],
      "metadata": {
        "colab": {
          "base_uri": "https://localhost:8080/",
          "height": 124
        },
        "id": "ZexrjvIlX7Ad",
        "outputId": "645cc890-dc59-4d0d-a71f-e609824a9b95"
      },
      "execution_count": null,
      "outputs": [
        {
          "output_type": "error",
          "ename": "SyntaxError",
          "evalue": "invalid syntax (<ipython-input-28-307ee3139bd8>, line 81)",
          "traceback": [
            "\u001b[0;36m  File \u001b[0;32m\"<ipython-input-28-307ee3139bd8>\"\u001b[0;36m, line \u001b[0;32m81\u001b[0m\n\u001b[0;31m    results = model.predict(X_test)model.fit(x=X_train, y=y_train, validation_split=0.0, # Change to 0.0 or Remove validation_split\u001b[0m\n\u001b[0m                                   ^\u001b[0m\n\u001b[0;31mSyntaxError\u001b[0m\u001b[0;31m:\u001b[0m invalid syntax\n"
          ]
        }
      ]
    },
    {
      "cell_type": "code",
      "source": [
        "import pandas as pd\n",
        "import numpy as np\n",
        "import cv2\n",
        "from tensorflow import keras\n",
        "import tensorflow as tf\n",
        "import os\n",
        "import matplotlib.pyplot as plt\n",
        "from sklearn.utils import shuffle\n",
        "from sklearn.model_selection import train_test_split\n",
        "from tensorflow.keras.models import Sequential\n",
        "from tensorflow.keras.layers import Dense, Activation, Dropout, Flatten, MaxPooling2D, Conv2D\n",
        "from tensorflow.keras.preprocessing.image import ImageDataGenerator\n",
        "from tensorflow.keras.callbacks import ModelCheckpoint, EarlyStopping, ReduceLROnPlateau\n",
        "from tensorflow.keras.optimizers import Nadam, Adam\n",
        "from sklearn.metrics import confusion_matrix, multilabel_confusion_matrix\n",
        "import seaborn as sns\n",
        "import imageio\n",
        "\n",
        "# Data loading and preprocessing\n",
        "img_data = []\n",
        "img = cv2.imread('/content/sad pic.jpg')  # Path to the uploaded image in Google Colab's files section\n",
        "img = cv2.resize(img, (48, 48))\n",
        "img_data.append(img)\n",
        "\n",
        "img_data = np.array(img_data).astype('float32') / 255\n",
        "labels = np.array([4])  # Label corresponding to 'happiness'\n",
        "\n",
        "label_text = {0: 'anger', 1: 'contempt', 2: 'disgust', 3: 'fear', 4: 'happiness', 5: 'sadness', 6: 'surprise'}\n",
        "\n",
        "def plotImages(image):\n",
        "    plt.imshow(image)\n",
        "    plt.axis('off')\n",
        "    plt.show()\n",
        "\n",
        "# Model creation\n",
        "def create_model(optim):\n",
        "    input_shape = (48, 48, 3)\n",
        "    model = Sequential([\n",
        "        Conv2D(6, (5, 5), input_shape=input_shape, padding='same', activation='relu'),\n",
        "        MaxPooling2D(pool_size=(2, 2)),\n",
        "        Conv2D(16, (5, 5), padding='same', activation='relu'),\n",
        "        MaxPooling2D(pool_size=(2, 2)),\n",
        "        Conv2D(64, (3, 3), activation='relu'),\n",
        "        MaxPooling2D(pool_size=(2, 2)),\n",
        "        Flatten(),\n",
        "        Dense(128, activation='relu'),\n",
        "        Dropout(0.5),\n",
        "        Dense(7, activation='softmax')\n",
        "    ])\n",
        "    model.compile(loss='categorical_crossentropy', metrics=['accuracy'], optimizer=optim)\n",
        "    return model\n",
        "\n",
        "# Data augmentation\n",
        "aug = ImageDataGenerator(rotation_range=25, width_shift_range=0.1,\n",
        "                         height_shift_range=0.1, shear_range=0.2,\n",
        "                         zoom_range=0.2, horizontal_flip=True,\n",
        "                         fill_mode='nearest')\n",
        "\n",
        "# Data preparation\n",
        "labels_categorical = keras.utils.to_categorical(labels, num_classes=7)\n",
        "img_data, labels_categorical = shuffle(img_data, labels_categorical, random_state=3)\n",
        "X_train, X_test, y_train, y_test = img_data, img_data, labels_categorical, labels_categorical\n",
        "\n",
        "# Training setup\n",
        "early_stopping = EarlyStopping(monitor='val_accuracy', patience=11, verbose=1, restore_best_weights=True)\n",
        "lr_scheduler = ReduceLROnPlateau(monitor='val_accuracy', factor=0.5, patience=7, min_lr=1e-7, verbose=1)\n",
        "callbacks = [early_stopping, lr_scheduler]\n",
        "\n",
        "model = create_model(Adam(learning_rate=0.001))\n",
        "model.summary()\n",
        "\n",
        "# Training\n",
        "model.fit(x=X_train, y=y_train, validation_split=0.0, batch_size=32, epochs=100, shuffle=True, verbose=2, callbacks=callbacks)\n",
        "\n",
        "# Evaluation\n",
        "results = model.predict(X_test)\n",
        "y_pred = np.argmax(results, axis=1)\n",
        "y_true = np.argmax(y_test, axis=1)\n",
        "cm = confusion_matrix(y_true, y_pred)\n",
        "\n",
        "sns.heatmap(cm, annot=True, cmap='Greys', cbar=False, fmt='d', xticklabels=label_text.values(), yticklabels=label_text.values())\n",
        "plt.xlabel('Predicted')\n",
        "plt.ylabel('True')\n",
        "plt.title('Confusion Matrix')\n",
        "plt.show()\n",
        "\n",
        "# Save model\n",
        "if not os.path.isfile('model.h5'):\n",
        "    model.save('model.h5')\n",
        "\n",
        "# Testing\n",
        "test_img = X_test[0:1]  # Update to test the single image\n",
        "plotImages(X_test[0])\n",
        "print(f\"Predicted: {label_text[np.argmax(model.predict(test_img)[0])]}, Actual: {label_text[np.argmax(y_test[0])]}\")\n"
      ],
      "metadata": {
        "colab": {
          "base_uri": "https://localhost:8080/",
          "height": 1000
        },
        "id": "S9ZV4ZdXZCEZ",
        "outputId": "2df0ca40-73dc-4d3d-a84a-cbd6479e72b3"
      },
      "execution_count": null,
      "outputs": [
        {
          "output_type": "stream",
          "name": "stderr",
          "text": [
            "/usr/local/lib/python3.10/dist-packages/keras/src/layers/convolutional/base_conv.py:107: UserWarning:\n",
            "\n",
            "Do not pass an `input_shape`/`input_dim` argument to a layer. When using Sequential models, prefer using an `Input(shape)` object as the first layer in the model instead.\n",
            "\n"
          ]
        },
        {
          "output_type": "display_data",
          "data": {
            "text/plain": [
              "\u001b[1mModel: \"sequential_4\"\u001b[0m\n"
            ],
            "text/html": [
              "<pre style=\"white-space:pre;overflow-x:auto;line-height:normal;font-family:Menlo,'DejaVu Sans Mono',consolas,'Courier New',monospace\"><span style=\"font-weight: bold\">Model: \"sequential_4\"</span>\n",
              "</pre>\n"
            ]
          },
          "metadata": {}
        },
        {
          "output_type": "display_data",
          "data": {
            "text/plain": [
              "┏━━━━━━━━━━━━━━━━━━━━━━━━━━━━━━━━━━━━━━┳━━━━━━━━━━━━━━━━━━━━━━━━━━━━━┳━━━━━━━━━━━━━━━━━┓\n",
              "┃\u001b[1m \u001b[0m\u001b[1mLayer (type)                        \u001b[0m\u001b[1m \u001b[0m┃\u001b[1m \u001b[0m\u001b[1mOutput Shape               \u001b[0m\u001b[1m \u001b[0m┃\u001b[1m \u001b[0m\u001b[1m        Param #\u001b[0m\u001b[1m \u001b[0m┃\n",
              "┡━━━━━━━━━━━━━━━━━━━━━━━━━━━━━━━━━━━━━━╇━━━━━━━━━━━━━━━━━━━━━━━━━━━━━╇━━━━━━━━━━━━━━━━━┩\n",
              "│ conv2d_9 (\u001b[38;5;33mConv2D\u001b[0m)                    │ (\u001b[38;5;45mNone\u001b[0m, \u001b[38;5;34m48\u001b[0m, \u001b[38;5;34m48\u001b[0m, \u001b[38;5;34m6\u001b[0m)           │             \u001b[38;5;34m456\u001b[0m │\n",
              "├──────────────────────────────────────┼─────────────────────────────┼─────────────────┤\n",
              "│ max_pooling2d_9 (\u001b[38;5;33mMaxPooling2D\u001b[0m)       │ (\u001b[38;5;45mNone\u001b[0m, \u001b[38;5;34m24\u001b[0m, \u001b[38;5;34m24\u001b[0m, \u001b[38;5;34m6\u001b[0m)           │               \u001b[38;5;34m0\u001b[0m │\n",
              "├──────────────────────────────────────┼─────────────────────────────┼─────────────────┤\n",
              "│ conv2d_10 (\u001b[38;5;33mConv2D\u001b[0m)                   │ (\u001b[38;5;45mNone\u001b[0m, \u001b[38;5;34m24\u001b[0m, \u001b[38;5;34m24\u001b[0m, \u001b[38;5;34m16\u001b[0m)          │           \u001b[38;5;34m2,416\u001b[0m │\n",
              "├──────────────────────────────────────┼─────────────────────────────┼─────────────────┤\n",
              "│ max_pooling2d_10 (\u001b[38;5;33mMaxPooling2D\u001b[0m)      │ (\u001b[38;5;45mNone\u001b[0m, \u001b[38;5;34m12\u001b[0m, \u001b[38;5;34m12\u001b[0m, \u001b[38;5;34m16\u001b[0m)          │               \u001b[38;5;34m0\u001b[0m │\n",
              "├──────────────────────────────────────┼─────────────────────────────┼─────────────────┤\n",
              "│ conv2d_11 (\u001b[38;5;33mConv2D\u001b[0m)                   │ (\u001b[38;5;45mNone\u001b[0m, \u001b[38;5;34m10\u001b[0m, \u001b[38;5;34m10\u001b[0m, \u001b[38;5;34m64\u001b[0m)          │           \u001b[38;5;34m9,280\u001b[0m │\n",
              "├──────────────────────────────────────┼─────────────────────────────┼─────────────────┤\n",
              "│ max_pooling2d_11 (\u001b[38;5;33mMaxPooling2D\u001b[0m)      │ (\u001b[38;5;45mNone\u001b[0m, \u001b[38;5;34m5\u001b[0m, \u001b[38;5;34m5\u001b[0m, \u001b[38;5;34m64\u001b[0m)            │               \u001b[38;5;34m0\u001b[0m │\n",
              "├──────────────────────────────────────┼─────────────────────────────┼─────────────────┤\n",
              "│ flatten_4 (\u001b[38;5;33mFlatten\u001b[0m)                  │ (\u001b[38;5;45mNone\u001b[0m, \u001b[38;5;34m1600\u001b[0m)                │               \u001b[38;5;34m0\u001b[0m │\n",
              "├──────────────────────────────────────┼─────────────────────────────┼─────────────────┤\n",
              "│ dense_8 (\u001b[38;5;33mDense\u001b[0m)                      │ (\u001b[38;5;45mNone\u001b[0m, \u001b[38;5;34m128\u001b[0m)                 │         \u001b[38;5;34m204,928\u001b[0m │\n",
              "├──────────────────────────────────────┼─────────────────────────────┼─────────────────┤\n",
              "│ dropout_4 (\u001b[38;5;33mDropout\u001b[0m)                  │ (\u001b[38;5;45mNone\u001b[0m, \u001b[38;5;34m128\u001b[0m)                 │               \u001b[38;5;34m0\u001b[0m │\n",
              "├──────────────────────────────────────┼─────────────────────────────┼─────────────────┤\n",
              "│ dense_9 (\u001b[38;5;33mDense\u001b[0m)                      │ (\u001b[38;5;45mNone\u001b[0m, \u001b[38;5;34m7\u001b[0m)                   │             \u001b[38;5;34m903\u001b[0m │\n",
              "└──────────────────────────────────────┴─────────────────────────────┴─────────────────┘\n"
            ],
            "text/html": [
              "<pre style=\"white-space:pre;overflow-x:auto;line-height:normal;font-family:Menlo,'DejaVu Sans Mono',consolas,'Courier New',monospace\">┏━━━━━━━━━━━━━━━━━━━━━━━━━━━━━━━━━━━━━━┳━━━━━━━━━━━━━━━━━━━━━━━━━━━━━┳━━━━━━━━━━━━━━━━━┓\n",
              "┃<span style=\"font-weight: bold\"> Layer (type)                         </span>┃<span style=\"font-weight: bold\"> Output Shape                </span>┃<span style=\"font-weight: bold\">         Param # </span>┃\n",
              "┡━━━━━━━━━━━━━━━━━━━━━━━━━━━━━━━━━━━━━━╇━━━━━━━━━━━━━━━━━━━━━━━━━━━━━╇━━━━━━━━━━━━━━━━━┩\n",
              "│ conv2d_9 (<span style=\"color: #0087ff; text-decoration-color: #0087ff\">Conv2D</span>)                    │ (<span style=\"color: #00d7ff; text-decoration-color: #00d7ff\">None</span>, <span style=\"color: #00af00; text-decoration-color: #00af00\">48</span>, <span style=\"color: #00af00; text-decoration-color: #00af00\">48</span>, <span style=\"color: #00af00; text-decoration-color: #00af00\">6</span>)           │             <span style=\"color: #00af00; text-decoration-color: #00af00\">456</span> │\n",
              "├──────────────────────────────────────┼─────────────────────────────┼─────────────────┤\n",
              "│ max_pooling2d_9 (<span style=\"color: #0087ff; text-decoration-color: #0087ff\">MaxPooling2D</span>)       │ (<span style=\"color: #00d7ff; text-decoration-color: #00d7ff\">None</span>, <span style=\"color: #00af00; text-decoration-color: #00af00\">24</span>, <span style=\"color: #00af00; text-decoration-color: #00af00\">24</span>, <span style=\"color: #00af00; text-decoration-color: #00af00\">6</span>)           │               <span style=\"color: #00af00; text-decoration-color: #00af00\">0</span> │\n",
              "├──────────────────────────────────────┼─────────────────────────────┼─────────────────┤\n",
              "│ conv2d_10 (<span style=\"color: #0087ff; text-decoration-color: #0087ff\">Conv2D</span>)                   │ (<span style=\"color: #00d7ff; text-decoration-color: #00d7ff\">None</span>, <span style=\"color: #00af00; text-decoration-color: #00af00\">24</span>, <span style=\"color: #00af00; text-decoration-color: #00af00\">24</span>, <span style=\"color: #00af00; text-decoration-color: #00af00\">16</span>)          │           <span style=\"color: #00af00; text-decoration-color: #00af00\">2,416</span> │\n",
              "├──────────────────────────────────────┼─────────────────────────────┼─────────────────┤\n",
              "│ max_pooling2d_10 (<span style=\"color: #0087ff; text-decoration-color: #0087ff\">MaxPooling2D</span>)      │ (<span style=\"color: #00d7ff; text-decoration-color: #00d7ff\">None</span>, <span style=\"color: #00af00; text-decoration-color: #00af00\">12</span>, <span style=\"color: #00af00; text-decoration-color: #00af00\">12</span>, <span style=\"color: #00af00; text-decoration-color: #00af00\">16</span>)          │               <span style=\"color: #00af00; text-decoration-color: #00af00\">0</span> │\n",
              "├──────────────────────────────────────┼─────────────────────────────┼─────────────────┤\n",
              "│ conv2d_11 (<span style=\"color: #0087ff; text-decoration-color: #0087ff\">Conv2D</span>)                   │ (<span style=\"color: #00d7ff; text-decoration-color: #00d7ff\">None</span>, <span style=\"color: #00af00; text-decoration-color: #00af00\">10</span>, <span style=\"color: #00af00; text-decoration-color: #00af00\">10</span>, <span style=\"color: #00af00; text-decoration-color: #00af00\">64</span>)          │           <span style=\"color: #00af00; text-decoration-color: #00af00\">9,280</span> │\n",
              "├──────────────────────────────────────┼─────────────────────────────┼─────────────────┤\n",
              "│ max_pooling2d_11 (<span style=\"color: #0087ff; text-decoration-color: #0087ff\">MaxPooling2D</span>)      │ (<span style=\"color: #00d7ff; text-decoration-color: #00d7ff\">None</span>, <span style=\"color: #00af00; text-decoration-color: #00af00\">5</span>, <span style=\"color: #00af00; text-decoration-color: #00af00\">5</span>, <span style=\"color: #00af00; text-decoration-color: #00af00\">64</span>)            │               <span style=\"color: #00af00; text-decoration-color: #00af00\">0</span> │\n",
              "├──────────────────────────────────────┼─────────────────────────────┼─────────────────┤\n",
              "│ flatten_4 (<span style=\"color: #0087ff; text-decoration-color: #0087ff\">Flatten</span>)                  │ (<span style=\"color: #00d7ff; text-decoration-color: #00d7ff\">None</span>, <span style=\"color: #00af00; text-decoration-color: #00af00\">1600</span>)                │               <span style=\"color: #00af00; text-decoration-color: #00af00\">0</span> │\n",
              "├──────────────────────────────────────┼─────────────────────────────┼─────────────────┤\n",
              "│ dense_8 (<span style=\"color: #0087ff; text-decoration-color: #0087ff\">Dense</span>)                      │ (<span style=\"color: #00d7ff; text-decoration-color: #00d7ff\">None</span>, <span style=\"color: #00af00; text-decoration-color: #00af00\">128</span>)                 │         <span style=\"color: #00af00; text-decoration-color: #00af00\">204,928</span> │\n",
              "├──────────────────────────────────────┼─────────────────────────────┼─────────────────┤\n",
              "│ dropout_4 (<span style=\"color: #0087ff; text-decoration-color: #0087ff\">Dropout</span>)                  │ (<span style=\"color: #00d7ff; text-decoration-color: #00d7ff\">None</span>, <span style=\"color: #00af00; text-decoration-color: #00af00\">128</span>)                 │               <span style=\"color: #00af00; text-decoration-color: #00af00\">0</span> │\n",
              "├──────────────────────────────────────┼─────────────────────────────┼─────────────────┤\n",
              "│ dense_9 (<span style=\"color: #0087ff; text-decoration-color: #0087ff\">Dense</span>)                      │ (<span style=\"color: #00d7ff; text-decoration-color: #00d7ff\">None</span>, <span style=\"color: #00af00; text-decoration-color: #00af00\">7</span>)                   │             <span style=\"color: #00af00; text-decoration-color: #00af00\">903</span> │\n",
              "└──────────────────────────────────────┴─────────────────────────────┴─────────────────┘\n",
              "</pre>\n"
            ]
          },
          "metadata": {}
        },
        {
          "output_type": "display_data",
          "data": {
            "text/plain": [
              "\u001b[1m Total params: \u001b[0m\u001b[38;5;34m217,983\u001b[0m (851.50 KB)\n"
            ],
            "text/html": [
              "<pre style=\"white-space:pre;overflow-x:auto;line-height:normal;font-family:Menlo,'DejaVu Sans Mono',consolas,'Courier New',monospace\"><span style=\"font-weight: bold\"> Total params: </span><span style=\"color: #00af00; text-decoration-color: #00af00\">217,983</span> (851.50 KB)\n",
              "</pre>\n"
            ]
          },
          "metadata": {}
        },
        {
          "output_type": "display_data",
          "data": {
            "text/plain": [
              "\u001b[1m Trainable params: \u001b[0m\u001b[38;5;34m217,983\u001b[0m (851.50 KB)\n"
            ],
            "text/html": [
              "<pre style=\"white-space:pre;overflow-x:auto;line-height:normal;font-family:Menlo,'DejaVu Sans Mono',consolas,'Courier New',monospace\"><span style=\"font-weight: bold\"> Trainable params: </span><span style=\"color: #00af00; text-decoration-color: #00af00\">217,983</span> (851.50 KB)\n",
              "</pre>\n"
            ]
          },
          "metadata": {}
        },
        {
          "output_type": "display_data",
          "data": {
            "text/plain": [
              "\u001b[1m Non-trainable params: \u001b[0m\u001b[38;5;34m0\u001b[0m (0.00 B)\n"
            ],
            "text/html": [
              "<pre style=\"white-space:pre;overflow-x:auto;line-height:normal;font-family:Menlo,'DejaVu Sans Mono',consolas,'Courier New',monospace\"><span style=\"font-weight: bold\"> Non-trainable params: </span><span style=\"color: #00af00; text-decoration-color: #00af00\">0</span> (0.00 B)\n",
              "</pre>\n"
            ]
          },
          "metadata": {}
        },
        {
          "output_type": "stream",
          "name": "stdout",
          "text": [
            "Epoch 1/100\n",
            "1/1 - 2s - 2s/step - accuracy: 1.0000 - loss: 1.7347 - learning_rate: 0.0010\n",
            "Epoch 2/100\n",
            "1/1 - 0s - 39ms/step - accuracy: 1.0000 - loss: 1.6962 - learning_rate: 0.0010\n",
            "Epoch 3/100\n",
            "1/1 - 0s - 37ms/step - accuracy: 1.0000 - loss: 1.1010 - learning_rate: 0.0010\n",
            "Epoch 4/100\n",
            "1/1 - 0s - 52ms/step - accuracy: 1.0000 - loss: 0.6079 - learning_rate: 0.0010\n",
            "Epoch 5/100\n",
            "1/1 - 0s - 32ms/step - accuracy: 1.0000 - loss: 0.3937 - learning_rate: 0.0010\n",
            "Epoch 6/100\n"
          ]
        },
        {
          "output_type": "stream",
          "name": "stderr",
          "text": [
            "/usr/local/lib/python3.10/dist-packages/keras/src/callbacks/early_stopping.py:155: UserWarning:\n",
            "\n",
            "Early stopping conditioned on metric `val_accuracy` which is not available. Available metrics are: accuracy,loss\n",
            "\n",
            "/usr/local/lib/python3.10/dist-packages/keras/src/callbacks/callback_list.py:96: UserWarning:\n",
            "\n",
            "Learning rate reduction is conditioned on metric `val_accuracy` which is not available. Available metrics are: accuracy,loss,learning_rate.\n",
            "\n"
          ]
        },
        {
          "output_type": "stream",
          "name": "stdout",
          "text": [
            "1/1 - 0s - 59ms/step - accuracy: 1.0000 - loss: 0.0719 - learning_rate: 0.0010\n",
            "Epoch 7/100\n",
            "1/1 - 0s - 33ms/step - accuracy: 1.0000 - loss: 0.0104 - learning_rate: 0.0010\n",
            "Epoch 8/100\n",
            "1/1 - 0s - 33ms/step - accuracy: 1.0000 - loss: 0.1117 - learning_rate: 0.0010\n",
            "Epoch 9/100\n",
            "1/1 - 0s - 57ms/step - accuracy: 1.0000 - loss: 0.0034 - learning_rate: 0.0010\n",
            "Epoch 10/100\n",
            "1/1 - 0s - 32ms/step - accuracy: 1.0000 - loss: 2.7299e-05 - learning_rate: 0.0010\n",
            "Epoch 11/100\n",
            "1/1 - 0s - 33ms/step - accuracy: 1.0000 - loss: 6.0797e-06 - learning_rate: 0.0010\n",
            "Epoch 12/100\n",
            "1/1 - 0s - 34ms/step - accuracy: 1.0000 - loss: 9.1791e-06 - learning_rate: 0.0010\n",
            "Epoch 13/100\n",
            "1/1 - 0s - 36ms/step - accuracy: 1.0000 - loss: 1.0610e-05 - learning_rate: 0.0010\n",
            "Epoch 14/100\n",
            "1/1 - 0s - 34ms/step - accuracy: 1.0000 - loss: 1.4305e-06 - learning_rate: 0.0010\n",
            "Epoch 15/100\n",
            "1/1 - 0s - 59ms/step - accuracy: 1.0000 - loss: 1.0729e-06 - learning_rate: 0.0010\n",
            "Epoch 16/100\n",
            "1/1 - 0s - 55ms/step - accuracy: 1.0000 - loss: 0.0000e+00 - learning_rate: 0.0010\n",
            "Epoch 17/100\n",
            "1/1 - 0s - 44ms/step - accuracy: 1.0000 - loss: 0.0000e+00 - learning_rate: 0.0010\n",
            "Epoch 18/100\n",
            "1/1 - 0s - 56ms/step - accuracy: 1.0000 - loss: 0.0000e+00 - learning_rate: 0.0010\n",
            "Epoch 19/100\n",
            "1/1 - 0s - 56ms/step - accuracy: 1.0000 - loss: 0.0000e+00 - learning_rate: 0.0010\n",
            "Epoch 20/100\n",
            "1/1 - 0s - 31ms/step - accuracy: 1.0000 - loss: 0.0000e+00 - learning_rate: 0.0010\n",
            "Epoch 21/100\n",
            "1/1 - 0s - 33ms/step - accuracy: 1.0000 - loss: 0.0000e+00 - learning_rate: 0.0010\n",
            "Epoch 22/100\n",
            "1/1 - 0s - 56ms/step - accuracy: 1.0000 - loss: 0.0012 - learning_rate: 0.0010\n",
            "Epoch 23/100\n",
            "1/1 - 0s - 54ms/step - accuracy: 1.0000 - loss: 0.0000e+00 - learning_rate: 0.0010\n",
            "Epoch 24/100\n",
            "1/1 - 0s - 56ms/step - accuracy: 1.0000 - loss: 0.0000e+00 - learning_rate: 0.0010\n",
            "Epoch 25/100\n",
            "1/1 - 0s - 37ms/step - accuracy: 1.0000 - loss: 0.0000e+00 - learning_rate: 0.0010\n",
            "Epoch 26/100\n",
            "1/1 - 0s - 63ms/step - accuracy: 1.0000 - loss: 0.0000e+00 - learning_rate: 0.0010\n",
            "Epoch 27/100\n",
            "1/1 - 0s - 42ms/step - accuracy: 1.0000 - loss: 0.0000e+00 - learning_rate: 0.0010\n",
            "Epoch 28/100\n",
            "1/1 - 0s - 48ms/step - accuracy: 1.0000 - loss: 0.0000e+00 - learning_rate: 0.0010\n",
            "Epoch 29/100\n",
            "1/1 - 0s - 127ms/step - accuracy: 1.0000 - loss: 0.0000e+00 - learning_rate: 0.0010\n",
            "Epoch 30/100\n",
            "1/1 - 0s - 32ms/step - accuracy: 1.0000 - loss: 0.0000e+00 - learning_rate: 0.0010\n",
            "Epoch 31/100\n",
            "1/1 - 0s - 58ms/step - accuracy: 1.0000 - loss: 0.0000e+00 - learning_rate: 0.0010\n",
            "Epoch 32/100\n",
            "1/1 - 0s - 35ms/step - accuracy: 1.0000 - loss: 0.0000e+00 - learning_rate: 0.0010\n",
            "Epoch 33/100\n",
            "1/1 - 0s - 35ms/step - accuracy: 1.0000 - loss: 0.0000e+00 - learning_rate: 0.0010\n",
            "Epoch 34/100\n",
            "1/1 - 0s - 34ms/step - accuracy: 1.0000 - loss: 0.0000e+00 - learning_rate: 0.0010\n",
            "Epoch 35/100\n",
            "1/1 - 0s - 47ms/step - accuracy: 1.0000 - loss: 0.0000e+00 - learning_rate: 0.0010\n",
            "Epoch 36/100\n",
            "1/1 - 0s - 33ms/step - accuracy: 1.0000 - loss: 0.0000e+00 - learning_rate: 0.0010\n",
            "Epoch 37/100\n",
            "1/1 - 0s - 57ms/step - accuracy: 1.0000 - loss: 0.0000e+00 - learning_rate: 0.0010\n",
            "Epoch 38/100\n",
            "1/1 - 0s - 36ms/step - accuracy: 1.0000 - loss: 0.0000e+00 - learning_rate: 0.0010\n",
            "Epoch 39/100\n",
            "1/1 - 0s - 48ms/step - accuracy: 1.0000 - loss: 0.0000e+00 - learning_rate: 0.0010\n",
            "Epoch 40/100\n",
            "1/1 - 0s - 57ms/step - accuracy: 1.0000 - loss: 0.0000e+00 - learning_rate: 0.0010\n",
            "Epoch 41/100\n",
            "1/1 - 0s - 57ms/step - accuracy: 1.0000 - loss: 0.0000e+00 - learning_rate: 0.0010\n",
            "Epoch 42/100\n",
            "1/1 - 0s - 60ms/step - accuracy: 1.0000 - loss: 0.0000e+00 - learning_rate: 0.0010\n",
            "Epoch 43/100\n",
            "1/1 - 0s - 47ms/step - accuracy: 1.0000 - loss: 0.0000e+00 - learning_rate: 0.0010\n",
            "Epoch 44/100\n",
            "1/1 - 0s - 136ms/step - accuracy: 1.0000 - loss: 0.0000e+00 - learning_rate: 0.0010\n",
            "Epoch 45/100\n",
            "1/1 - 0s - 57ms/step - accuracy: 1.0000 - loss: 0.0000e+00 - learning_rate: 0.0010\n",
            "Epoch 46/100\n",
            "1/1 - 0s - 40ms/step - accuracy: 1.0000 - loss: 0.0000e+00 - learning_rate: 0.0010\n",
            "Epoch 47/100\n",
            "1/1 - 0s - 58ms/step - accuracy: 1.0000 - loss: 0.0000e+00 - learning_rate: 0.0010\n",
            "Epoch 48/100\n",
            "1/1 - 0s - 60ms/step - accuracy: 1.0000 - loss: 0.0000e+00 - learning_rate: 0.0010\n",
            "Epoch 49/100\n",
            "1/1 - 0s - 59ms/step - accuracy: 1.0000 - loss: 0.0000e+00 - learning_rate: 0.0010\n",
            "Epoch 50/100\n",
            "1/1 - 0s - 42ms/step - accuracy: 1.0000 - loss: 0.0000e+00 - learning_rate: 0.0010\n",
            "Epoch 51/100\n",
            "1/1 - 0s - 39ms/step - accuracy: 1.0000 - loss: 0.0000e+00 - learning_rate: 0.0010\n",
            "Epoch 52/100\n",
            "1/1 - 0s - 62ms/step - accuracy: 1.0000 - loss: 0.0000e+00 - learning_rate: 0.0010\n",
            "Epoch 53/100\n",
            "1/1 - 0s - 39ms/step - accuracy: 1.0000 - loss: 0.0000e+00 - learning_rate: 0.0010\n",
            "Epoch 54/100\n",
            "1/1 - 0s - 56ms/step - accuracy: 1.0000 - loss: 0.0000e+00 - learning_rate: 0.0010\n",
            "Epoch 55/100\n",
            "1/1 - 0s - 33ms/step - accuracy: 1.0000 - loss: 0.0000e+00 - learning_rate: 0.0010\n",
            "Epoch 56/100\n",
            "1/1 - 0s - 33ms/step - accuracy: 1.0000 - loss: 0.0000e+00 - learning_rate: 0.0010\n",
            "Epoch 57/100\n",
            "1/1 - 0s - 32ms/step - accuracy: 1.0000 - loss: 0.0000e+00 - learning_rate: 0.0010\n",
            "Epoch 58/100\n",
            "1/1 - 0s - 40ms/step - accuracy: 1.0000 - loss: 0.0000e+00 - learning_rate: 0.0010\n",
            "Epoch 59/100\n",
            "1/1 - 0s - 32ms/step - accuracy: 1.0000 - loss: 0.0000e+00 - learning_rate: 0.0010\n",
            "Epoch 60/100\n",
            "1/1 - 0s - 60ms/step - accuracy: 1.0000 - loss: 0.0000e+00 - learning_rate: 0.0010\n",
            "Epoch 61/100\n",
            "1/1 - 0s - 42ms/step - accuracy: 1.0000 - loss: 0.0000e+00 - learning_rate: 0.0010\n",
            "Epoch 62/100\n",
            "1/1 - 0s - 48ms/step - accuracy: 1.0000 - loss: 0.0000e+00 - learning_rate: 0.0010\n",
            "Epoch 63/100\n",
            "1/1 - 0s - 123ms/step - accuracy: 1.0000 - loss: 0.0000e+00 - learning_rate: 0.0010\n",
            "Epoch 64/100\n",
            "1/1 - 0s - 57ms/step - accuracy: 1.0000 - loss: 0.0000e+00 - learning_rate: 0.0010\n",
            "Epoch 65/100\n",
            "1/1 - 0s - 56ms/step - accuracy: 1.0000 - loss: 0.0000e+00 - learning_rate: 0.0010\n",
            "Epoch 66/100\n",
            "1/1 - 0s - 35ms/step - accuracy: 1.0000 - loss: 0.0000e+00 - learning_rate: 0.0010\n",
            "Epoch 67/100\n",
            "1/1 - 0s - 34ms/step - accuracy: 1.0000 - loss: 0.0000e+00 - learning_rate: 0.0010\n",
            "Epoch 68/100\n",
            "1/1 - 0s - 34ms/step - accuracy: 1.0000 - loss: 0.0000e+00 - learning_rate: 0.0010\n",
            "Epoch 69/100\n",
            "1/1 - 0s - 33ms/step - accuracy: 1.0000 - loss: 0.0000e+00 - learning_rate: 0.0010\n",
            "Epoch 70/100\n",
            "1/1 - 0s - 34ms/step - accuracy: 1.0000 - loss: 0.0000e+00 - learning_rate: 0.0010\n",
            "Epoch 71/100\n",
            "1/1 - 0s - 32ms/step - accuracy: 1.0000 - loss: 0.0000e+00 - learning_rate: 0.0010\n",
            "Epoch 72/100\n",
            "1/1 - 0s - 56ms/step - accuracy: 1.0000 - loss: 0.0000e+00 - learning_rate: 0.0010\n",
            "Epoch 73/100\n",
            "1/1 - 0s - 37ms/step - accuracy: 1.0000 - loss: 0.0000e+00 - learning_rate: 0.0010\n",
            "Epoch 74/100\n",
            "1/1 - 0s - 59ms/step - accuracy: 1.0000 - loss: 0.0000e+00 - learning_rate: 0.0010\n",
            "Epoch 75/100\n",
            "1/1 - 0s - 32ms/step - accuracy: 1.0000 - loss: 0.0000e+00 - learning_rate: 0.0010\n",
            "Epoch 76/100\n",
            "1/1 - 0s - 32ms/step - accuracy: 1.0000 - loss: 0.0000e+00 - learning_rate: 0.0010\n",
            "Epoch 77/100\n",
            "1/1 - 0s - 33ms/step - accuracy: 1.0000 - loss: 0.0000e+00 - learning_rate: 0.0010\n",
            "Epoch 78/100\n",
            "1/1 - 0s - 56ms/step - accuracy: 1.0000 - loss: 0.0000e+00 - learning_rate: 0.0010\n",
            "Epoch 79/100\n",
            "1/1 - 0s - 55ms/step - accuracy: 1.0000 - loss: 0.0000e+00 - learning_rate: 0.0010\n",
            "Epoch 80/100\n",
            "1/1 - 0s - 43ms/step - accuracy: 1.0000 - loss: 0.0000e+00 - learning_rate: 0.0010\n",
            "Epoch 81/100\n",
            "1/1 - 0s - 52ms/step - accuracy: 1.0000 - loss: 0.0000e+00 - learning_rate: 0.0010\n",
            "Epoch 82/100\n",
            "1/1 - 0s - 55ms/step - accuracy: 1.0000 - loss: 0.0000e+00 - learning_rate: 0.0010\n",
            "Epoch 83/100\n",
            "1/1 - 0s - 31ms/step - accuracy: 1.0000 - loss: 0.0000e+00 - learning_rate: 0.0010\n",
            "Epoch 84/100\n",
            "1/1 - 0s - 55ms/step - accuracy: 1.0000 - loss: 0.0000e+00 - learning_rate: 0.0010\n",
            "Epoch 85/100\n",
            "1/1 - 0s - 32ms/step - accuracy: 1.0000 - loss: 0.0000e+00 - learning_rate: 0.0010\n",
            "Epoch 86/100\n",
            "1/1 - 0s - 32ms/step - accuracy: 1.0000 - loss: 0.0000e+00 - learning_rate: 0.0010\n",
            "Epoch 87/100\n",
            "1/1 - 0s - 32ms/step - accuracy: 1.0000 - loss: 0.0000e+00 - learning_rate: 0.0010\n",
            "Epoch 88/100\n",
            "1/1 - 0s - 37ms/step - accuracy: 1.0000 - loss: 0.0000e+00 - learning_rate: 0.0010\n",
            "Epoch 89/100\n",
            "1/1 - 0s - 64ms/step - accuracy: 1.0000 - loss: 0.0000e+00 - learning_rate: 0.0010\n",
            "Epoch 90/100\n",
            "1/1 - 0s - 33ms/step - accuracy: 1.0000 - loss: 0.0000e+00 - learning_rate: 0.0010\n",
            "Epoch 91/100\n",
            "1/1 - 0s - 58ms/step - accuracy: 1.0000 - loss: 0.0000e+00 - learning_rate: 0.0010\n",
            "Epoch 92/100\n",
            "1/1 - 0s - 35ms/step - accuracy: 1.0000 - loss: 0.0000e+00 - learning_rate: 0.0010\n",
            "Epoch 93/100\n",
            "1/1 - 0s - 63ms/step - accuracy: 1.0000 - loss: 0.0000e+00 - learning_rate: 0.0010\n",
            "Epoch 94/100\n",
            "1/1 - 0s - 34ms/step - accuracy: 1.0000 - loss: 0.0000e+00 - learning_rate: 0.0010\n",
            "Epoch 95/100\n",
            "1/1 - 0s - 58ms/step - accuracy: 1.0000 - loss: 0.0000e+00 - learning_rate: 0.0010\n",
            "Epoch 96/100\n",
            "1/1 - 0s - 37ms/step - accuracy: 1.0000 - loss: 0.0000e+00 - learning_rate: 0.0010\n",
            "Epoch 97/100\n",
            "1/1 - 0s - 61ms/step - accuracy: 1.0000 - loss: 0.0000e+00 - learning_rate: 0.0010\n",
            "Epoch 98/100\n",
            "1/1 - 0s - 52ms/step - accuracy: 1.0000 - loss: 0.0000e+00 - learning_rate: 0.0010\n",
            "Epoch 99/100\n",
            "1/1 - 0s - 84ms/step - accuracy: 1.0000 - loss: 0.0000e+00 - learning_rate: 0.0010\n",
            "Epoch 100/100\n",
            "1/1 - 0s - 137ms/step - accuracy: 1.0000 - loss: 0.0000e+00 - learning_rate: 0.0010\n",
            "\u001b[1m1/1\u001b[0m \u001b[32m━━━━━━━━━━━━━━━━━━━━\u001b[0m\u001b[37m\u001b[0m \u001b[1m0s\u001b[0m 161ms/step\n"
          ]
        },
        {
          "output_type": "stream",
          "name": "stderr",
          "text": [
            "/usr/local/lib/python3.10/dist-packages/sklearn/metrics/_classification.py:409: UserWarning:\n",
            "\n",
            "A single label was found in 'y_true' and 'y_pred'. For the confusion matrix to have the correct shape, use the 'labels' parameter to pass all known labels.\n",
            "\n"
          ]
        },
        {
          "output_type": "display_data",
          "data": {
            "text/plain": [
              "<Figure size 640x480 with 1 Axes>"
            ],
            "image/png": "[encoded data removed]"
          },
          "metadata": {}
        },
        {
          "output_type": "display_data",
          "data": {
            "text/plain": [
              "<Figure size 640x480 with 1 Axes>"
            ],
            "image/png": "[encoded data removed]"
          },
          "metadata": {}
        },
        {
          "output_type": "stream",
          "name": "stdout",
          "text": [
            "\u001b[1m1/1\u001b[0m \u001b[32m━━━━━━━━━━━━━━━━━━━━\u001b[0m\u001b[37m\u001b[0m \u001b[1m0s\u001b[0m 31ms/step\n",
            "Predicted: happiness, Actual: happiness\n"
          ]
        }
      ]
    },
    {
      "cell_type": "code",
      "source": [
        "import pygame\n",
        "import random\n",
        "import numpy as np\n",
        "import math\n",
        "\n",
        "# Initialize pygame\n",
        "pygame.init()\n",
        "\n",
        "# Set up the display\n",
        "WIDTH, HEIGHT = 600, 600\n",
        "GRID_SIZE = 20\n",
        "window = pygame.display.set_mode((WIDTH, HEIGHT))\n",
        "pygame.display.set_caption(\"Smarter Genetic Snake Game\")\n",
        "\n",
        "# Colors\n",
        "WHITE = (255, 255, 255)\n",
        "GREEN = (0, 255, 0)\n",
        "RED = (255, 0, 0)\n",
        "BLACK = (0, 0, 0)\n",
        "# Load images for snake and food\n",
        "snake_image = pygame.image.load('snake.jpg')  # Ensure the path is correct\n",
        "apple_image = pygame.image.load('apple.jpg')  # Ensure the path is correct\n",
        "\n",
        "# Resize images to match the grid size\n",
        "snake_image = pygame.transform.scale(snake_image, (GRID_SIZE, GRID_SIZE))\n",
        "apple_image = pygame.transform.scale(apple_image, (GRID_SIZE, GRID_SIZE))\n",
        "\n",
        "# Clock for controlling the frame rate\n",
        "clock = pygame.time.Clock()\n",
        "\n",
        "# Directions\n",
        "UP = (-GRID_SIZE, 0)\n",
        "DOWN = (GRID_SIZE, 0)\n",
        "LEFT = (0, -GRID_SIZE)\n",
        "RIGHT = (0, GRID_SIZE)\n",
        "ACTIONS = [UP, DOWN, LEFT, RIGHT]\n",
        "\n",
        "# Population and Genetic Parameters\n",
        "POPULATION_SIZE = 10\n",
        "MUTATION_RATE = 0.05\n",
        "CROSSOVER_RATE = 0.7\n",
        "GENERATION_COUNT = 10\n",
        "TIME_LIMIT = 10  # Steps per snake before it dies if it doesn't find food\n",
        "\n",
        "# Initialize the genetic algorithm\n",
        "class Snake:\n",
        "    def __init__(self):\n",
        "        self.snake = [(WIDTH // 2, HEIGHT // 2)]\n",
        "        self.snake_direction = RIGHT\n",
        "        self.fitness = 0\n",
        "        # Chromosome contains directions for each cell in a grid. The snake decides based on the grid cells\n",
        "        self.chromosome = np.random.random((WIDTH // GRID_SIZE, HEIGHT // GRID_SIZE, 4))  # Probability map for each direction\n",
        "        self.time_alive = 0\n",
        "        self.food_eaten = 0\n",
        "        self.max_fitness = 0\n",
        "\n",
        "    def reset(self):\n",
        "        self.snake = [(WIDTH // 2, HEIGHT // 2)]\n",
        "        self.snake_direction = RIGHT\n",
        "        self.fitness = 0\n",
        "        self.time_alive = 0\n",
        "        self.food_eaten = 0\n",
        "\n",
        "    def move(self, food_pos):\n",
        "        # Calculate distance from head to food\n",
        "        snake_head = self.snake[0]\n",
        "        direction = self.calculate_best_direction(snake_head, food_pos)\n",
        "\n",
        "        # Move the snake based on the calculated direction\n",
        "        self.snake_direction = direction\n",
        "        new_head = (self.snake[0][0] + self.snake_direction[0], self.snake[0][1] + self.snake_direction[1])\n",
        "        self.snake = [new_head] + self.snake[:-1]  # Add new head, remove the last part\n",
        "\n",
        "    def calculate_best_direction(self, snake_head, food_pos):\n",
        "        \"\"\"Calculate the best direction towards food using the chromosome.\"\"\"\n",
        "        x, y = snake_head\n",
        "        fx, fy = food_pos\n",
        "        # Determine relative direction to the food\n",
        "        direction_to_food = np.array([fx - x, fy - y])\n",
        "        directions = np.array([UP, DOWN, LEFT, RIGHT])\n",
        "\n",
        "        # Calculate the direction with the shortest distance to food\n",
        "        best_dir = None\n",
        "        min_distance = float('inf')\n",
        "        for i, dir in enumerate(directions):\n",
        "            new_head = (x + dir[0], y + dir[1])\n",
        "            distance = np.linalg.norm(np.array([new_head[0] - fx, new_head[1] - fy]))\n",
        "            if distance < min_distance:\n",
        "                best_dir = dir\n",
        "                min_distance = distance\n",
        "\n",
        "        return best_dir\n",
        "\n",
        "    def check_collisions(self):\n",
        "        # Check for collision with wall or self\n",
        "        snake_head = self.snake[0]\n",
        "        if snake_head[0] < 0 or snake_head[0] >= WIDTH or snake_head[1] < 0 or snake_head[1] >= HEIGHT:\n",
        "            return True  # Collision with wall\n",
        "        if len(self.snake) != len(set(self.snake)):\n",
        "            return True  # Collision with self\n",
        "        return False\n",
        "\n",
        "    def evaluate_fitness(self):\n",
        "        # Fitness is based on food eaten and survival time\n",
        "        self.fitness = self.food_eaten + self.time_alive // 50  # Reward longer survival time and food eaten\n",
        "\n",
        "# Crossover function to combine two snakes' chromosomes\n",
        "def crossover(snake1, snake2):\n",
        "    if random.random() < CROSSOVER_RATE:\n",
        "        crossover_point = random.randint(0, len(snake1.chromosome) - 1)\n",
        "        # Swap parts of the chromosome between two snakes\n",
        "        child1_chromosome = np.copy(snake1.chromosome)\n",
        "        child2_chromosome = np.copy(snake2.chromosome)\n",
        "\n",
        "        child1_chromosome[crossover_point:] = snake2.chromosome[crossover_point:]\n",
        "        child2_chromosome[crossover_point:] = snake1.chromosome[crossover_point:]\n",
        "\n",
        "        # Return the new snakes\n",
        "        child1 = Snake()\n",
        "        child2 = Snake()\n",
        "        child1.chromosome = child1_chromosome\n",
        "        child2.chromosome = child2_chromosome\n",
        "        return child1, child2\n",
        "    return snake1, snake2\n",
        "\n",
        "# Mutation function to randomly alter a snake's chromosome\n",
        "def mutate(snake):\n",
        "    for i in range(len(snake.chromosome)):\n",
        "        if random.random() < MUTATION_RATE:\n",
        "            mutation_point = random.randint(0, len(snake.chromosome[i]) - 1)\n",
        "            snake.chromosome[i][mutation_point] = np.random.random(4)  # Random probability for each direction\n",
        "\n",
        "# Draw all snakes on the screen\n",
        "def draw_snakes(population):\n",
        "    for snake in population:\n",
        "        for segment in snake.snake:\n",
        "            pygame.draw.rect(window, GREEN, pygame.Rect(segment[0], segment[1], GRID_SIZE, GRID_SIZE))\n",
        "\n",
        "# Draw the food on the screen\n",
        "def draw_food(food_pos):\n",
        "    pygame.draw.rect(window, RED, pygame.Rect(food_pos[0], food_pos[1], GRID_SIZE, GRID_SIZE))\n",
        "\n",
        "# Main game loop\n",
        "def game_loop():\n",
        "    population = [Snake() for _ in range(POPULATION_SIZE)]\n",
        "    generation = 0\n",
        "    best_snake = None\n",
        "\n",
        "    while generation < GENERATION_COUNT:\n",
        "        print(f\"Generation {generation + 1}\")\n",
        "\n",
        "        # Run each snake for a certain number of steps\n",
        "        for snake in population:\n",
        "            snake.reset()\n",
        "            food_pos = (random.randint(0, (WIDTH - GRID_SIZE) // GRID_SIZE) * GRID_SIZE,\n",
        "                        random.randint(0, (HEIGHT - GRID_SIZE) // GRID_SIZE) * GRID_SIZE)\n",
        "            running = True\n",
        "\n",
        "            # Run the snake through a game loop for a certain number of steps\n",
        "            for _ in range(TIME_LIMIT):  # Limit steps per snake to avoid infinite loops\n",
        "                snake.move(food_pos)\n",
        "                if snake.snake[0] == food_pos:\n",
        "                    snake.food_eaten += 1  # Increase food count for eating food\n",
        "                    food_pos = (random.randint(0, (WIDTH - GRID_SIZE) // GRID_SIZE) * GRID_SIZE,\n",
        "                                random.randint(0, (HEIGHT - GRID_SIZE) // GRID_SIZE) * GRID_SIZE)\n",
        "                if snake.check_collisions():\n",
        "                    break  # Snake dies, end game\n",
        "                snake.time_alive += 1  # Increment time alive\n",
        "\n",
        "                # Visualize each move of the snake\n",
        "                window.fill(BLACK)\n",
        "                draw_snakes(population)\n",
        "                draw_food(food_pos)\n",
        "                pygame.display.update()\n",
        "                clock.tick(10)\n",
        "\n",
        "            # Evaluate the snake's fitness\n",
        "            snake.evaluate_fitness()\n",
        "\n",
        "            if best_snake is None or snake.fitness > best_snake.fitness:\n",
        "                best_snake = snake\n",
        "\n",
        "        # Select the top half of the population to form the next generation\n",
        "        population = sorted(population, key=lambda x: x.fitness, reverse=True)\n",
        "        new_population = population[:POPULATION_SIZE // 2]  # Keep top half\n",
        "\n",
        "        # Apply crossover and mutation to generate the rest of the population\n",
        "        while len(new_population) < POPULATION_SIZE:\n",
        "            parent1 = random.choice(population[:POPULATION_SIZE // 2])\n",
        "            parent2 = random.choice(population[:POPULATION_SIZE // 2])\n",
        "            child1, child2 = crossover(parent1, parent2)\n",
        "            mutate(child1)\n",
        "            mutate(child2)\n",
        "            new_population.extend([child1, child2])\n",
        "\n",
        "        population = new_population\n",
        "        generation += 1\n",
        "\n",
        "        # After each generation, pause to visualize the evolution\n",
        "        print(f\"Generation {generation} completed with Best Fitness: {best_snake.fitness}\")\n",
        "        pygame.time.wait(1000)  # Pause for 1 second before starting next generation\n",
        "\n",
        "    print(f\"Best Snake Fitness: {best_snake.fitness}\")\n",
        "    pygame.quit()\n",
        "\n",
        "# Start the game\n",
        "game_loop()"
      ],
      "metadata": {
        "colab": {
          "base_uri": "https://localhost:8080/"
        },
        "id": "wARZHN0VapYM",
        "outputId": "db2a2d32-d918-4bc0-95ba-4f4156f059ad"
      },
      "execution_count": null,
      "outputs": [
        {
          "output_type": "stream",
          "name": "stdout",
          "text": [
            "Generation 1\n",
            "Generation 1 completed with Best Fitness: 1\n",
            "Generation 2\n",
            "Generation 2 completed with Best Fitness: 1\n",
            "Generation 3\n",
            "Generation 3 completed with Best Fitness: 1\n",
            "Generation 4\n",
            "Generation 4 completed with Best Fitness: 2\n",
            "Generation 5\n",
            "Generation 5 completed with Best Fitness: 1\n",
            "Generation 6\n",
            "Generation 6 completed with Best Fitness: 2\n",
            "Generation 7\n",
            "Generation 7 completed with Best Fitness: 2\n",
            "Generation 8\n",
            "Generation 8 completed with Best Fitness: 1\n",
            "Generation 9\n",
            "Generation 9 completed with Best Fitness: 1\n",
            "Generation 10\n",
            "Generation 10 completed with Best Fitness: 1\n",
            "Best Snake Fitness: 1\n"
          ]
        }
      ]
    },
    {
      "cell_type": "code",
      "source": [
        "import pygame\n",
        "import random\n",
        "import numpy as np\n",
        "import math\n",
        "\n",
        "# Initialize pygame\n",
        "pygame.init()\n",
        "\n",
        "# Set up the display\n",
        "WIDTH, HEIGHT = 600, 600\n",
        "GRID_SIZE = 20\n",
        "window = pygame.display.set_mode((WIDTH, HEIGHT))\n",
        "pygame.display.set_caption(\"Smarter Genetic Snake Game\")\n",
        "\n",
        "# Colors\n",
        "WHITE = (255, 255, 255)\n",
        "GREEN = (0, 255, 0)\n",
        "RED = (255, 0, 0)\n",
        "BLACK = (0, 0, 0)\n",
        "\n",
        "# Load images for snake and food\n",
        "snake_image = pygame.image.load('s.jpg')  # Ensure the path is correct\n",
        "apple_image = pygame.image.load('a.jpg')  # Ensure the path is correct\n",
        "\n",
        "# Resize images to match the grid size\n",
        "snake_image = pygame.transform.scale(snake_image, (GRID_SIZE, GRID_SIZE))\n",
        "apple_image = pygame.transform.scale(apple_image, (GRID_SIZE, GRID_SIZE))\n",
        "\n",
        "# Clock for controlling the frame rate\n",
        "clock = pygame.time.Clock()\n",
        "\n",
        "# Directions\n",
        "UP = (-GRID_SIZE, 0)\n",
        "DOWN = (GRID_SIZE, 0)\n",
        "LEFT = (0, -GRID_SIZE)\n",
        "RIGHT = (0, GRID_SIZE)\n",
        "ACTIONS = [UP, DOWN, LEFT, RIGHT]\n",
        "\n",
        "# Population and Genetic Parameters\n",
        "POPULATION_SIZE = 10\n",
        "MUTATION_RATE = 0.05\n",
        "CROSSOVER_RATE = 0.7\n",
        "GENERATION_COUNT = 10\n",
        "TIME_LIMIT = 10  # Steps per snake before it dies if it doesn't find food\n",
        "\n",
        "# Initialize the genetic algorithm\n",
        "class Snake:\n",
        "    def __init__(self):\n",
        "        self.snake = [(WIDTH // 2, HEIGHT // 2)]\n",
        "        self.snake_direction = RIGHT\n",
        "        self.fitness = 0\n",
        "        # Chromosome contains directions for each cell in a grid. The snake decides based on the grid cells\n",
        "        self.chromosome = np.random.random((WIDTH // GRID_SIZE, HEIGHT // GRID_SIZE, 4))  # Probability map for each direction\n",
        "        self.time_alive = 0\n",
        "        self.food_eaten = 0\n",
        "        self.max_fitness = 0\n",
        "\n",
        "    def reset(self):\n",
        "        self.snake = [(WIDTH // 2, HEIGHT // 2)]\n",
        "        self.snake_direction = RIGHT\n",
        "        self.fitness = 0\n",
        "        self.time_alive = 0\n",
        "        self.food_eaten = 0\n",
        "\n",
        "    def move(self, food_pos):\n",
        "        # Calculate distance from head to food\n",
        "        snake_head = self.snake[0]\n",
        "        direction = self.calculate_best_direction(snake_head, food_pos)\n",
        "\n",
        "        # Move the snake based on the calculated direction\n",
        "        self.snake_direction = direction\n",
        "        new_head = (self.snake[0][0] + self.snake_direction[0], self.snake[0][1] + self.snake_direction[1])\n",
        "        self.snake = [new_head] + self.snake[:-1]  # Add new head, remove the last part\n",
        "\n",
        "    def calculate_best_direction(self, snake_head, food_pos):\n",
        "        \"\"\"Calculate the best direction towards food using the chromosome.\"\"\"\n",
        "        x, y = snake_head\n",
        "        fx, fy = food_pos\n",
        "        # Determine relative direction to the food\n",
        "        direction_to_food = np.array([fx - x, fy - y])\n",
        "        directions = np.array([UP, DOWN, LEFT, RIGHT])\n",
        "\n",
        "        # Calculate the direction with the shortest distance to food\n",
        "        best_dir = None\n",
        "        min_distance = float('inf')\n",
        "        for i, dir in enumerate(directions):\n",
        "            new_head = (x + dir[0], y + dir[1])\n",
        "            distance = np.linalg.norm(np.array([new_head[0] - fx, new_head[1] - fy]))\n",
        "            if distance < min_distance:\n",
        "                best_dir = dir\n",
        "                min_distance = distance\n",
        "\n",
        "        return best_dir\n",
        "\n",
        "    def check_collisions(self):\n",
        "        # Check for collision with wall or self\n",
        "        snake_head = self.snake[0]\n",
        "        if snake_head[0] < 0 or snake_head[0] >= WIDTH or snake_head[1] < 0 or snake_head[1] >= HEIGHT:\n",
        "            return True  # Collision with wall\n",
        "        if len(self.snake) != len(set(self.snake)):\n",
        "            return True  # Collision with self\n",
        "        return False\n",
        "\n",
        "    def evaluate_fitness(self):\n",
        "        # Fitness is based on food eaten and survival time\n",
        "        self.fitness = self.food_eaten + self.time_alive // 50  # Reward longer survival time and food eaten\n",
        "\n",
        "# Crossover function to combine two snakes' chromosomes\n",
        "def crossover(snake1, snake2):\n",
        "    if random.random() < CROSSOVER_RATE:\n",
        "        crossover_point = random.randint(0, len(snake1.chromosome) - 1)\n",
        "        # Swap parts of the chromosome between two snakes\n",
        "        child1_chromosome = np.copy(snake1.chromosome)\n",
        "        child2_chromosome = np.copy(snake2.chromosome)\n",
        "\n",
        "        child1_chromosome[crossover_point:] = snake2.chromosome[crossover_point:]\n",
        "        child2_chromosome[crossover_point:] = snake1.chromosome[crossover_point:]\n",
        "\n",
        "        # Return the new snakes\n",
        "        child1 = Snake()\n",
        "        child2 = Snake()\n",
        "        child1.chromosome = child1_chromosome\n",
        "        child2.chromosome = child2_chromosome\n",
        "        return child1, child2\n",
        "    return snake1, snake2\n",
        "\n",
        "# Mutation function to randomly alter a snake's chromosome\n",
        "def mutate(snake):\n",
        "    for i in range(len(snake.chromosome)):\n",
        "        if random.random() < MUTATION_RATE:\n",
        "            # Replace the i-th direction probability with a new random value\n",
        "            snake.chromosome[i] = np.random.random()\n",
        "\n",
        "# Draw all snakes on the screen\n",
        "def draw_snakes(population):\n",
        "    for snake in population:\n",
        "        for segment in snake.snake:\n",
        "            window.blit(snake_image, segment)\n",
        "\n",
        "def draw_food(food_pos):\n",
        "    window.blit(apple_image, food_pos)\n",
        "\n",
        "# Main game loop\n",
        "def game_loop():\n",
        "    population = [Snake() for _ in range(POPULATION_SIZE)]\n",
        "    generation = 0\n",
        "    best_snake = None\n",
        "\n",
        "    while generation < GENERATION_COUNT:\n",
        "        print(f\"Generation {generation + 1}\")\n",
        "\n",
        "        # Run each snake for a certain number of steps\n",
        "        for snake in population:\n",
        "            snake.reset()\n",
        "            food_pos = (random.randint(0, (WIDTH - GRID_SIZE) // GRID_SIZE) * GRID_SIZE,\n",
        "                        random.randint(0, (HEIGHT - GRID_SIZE) // GRID_SIZE) * GRID_SIZE)\n",
        "            running = True\n",
        "\n",
        "            # Run the snake through a game loop for a certain number of steps\n",
        "            for _ in range(TIME_LIMIT):  # Limit steps per snake to avoid infinite loops\n",
        "                snake.move(food_pos)\n",
        "                if snake.snake[0] == food_pos:\n",
        "                    snake.food_eaten += 1  # Increase food count for eating food\n",
        "                    food_pos = (random.randint(0, (WIDTH - GRID_SIZE) // GRID_SIZE) * GRID_SIZE,\n",
        "                                random.randint(0, (HEIGHT - GRID_SIZE) // GRID_SIZE) * GRID_SIZE)\n",
        "                if snake.check_collisions():\n",
        "                    break  # Snake dies, end game\n",
        "                snake.time_alive += 1  # Increment time alive\n",
        "\n",
        "                # Visualize each move of the snake\n",
        "                window.fill(BLACK)\n",
        "                draw_snakes(population)\n",
        "                draw_food(food_pos)\n",
        "                pygame.display.update()\n",
        "                clock.tick(10)\n",
        "\n",
        "            # Evaluate the snake's fitness\n",
        "            snake.evaluate_fitness()\n",
        "\n",
        "            if best_snake is None or snake.fitness > best_snake.fitness:\n",
        "                best_snake = snake\n",
        "\n",
        "        # Select the top half of the population to form the next generation\n",
        "        population = sorted(population, key=lambda x: x.fitness, reverse=True)\n",
        "        new_population = population[:POPULATION_SIZE // 2]  # Keep top half\n",
        "\n",
        "        # Apply crossover and mutation to generate the rest of the population\n",
        "        while len(new_population) < POPULATION_SIZE:\n",
        "            parent1 = random.choice(population[:POPULATION_SIZE // 2])\n",
        "            parent2 = random.choice(population[:POPULATION_SIZE // 2])\n",
        "            child1, child2 = crossover(parent1, parent2)\n",
        "            mutate(child1)\n",
        "            mutate(child2)\n",
        "            new_population.extend([child1, child2])\n",
        "\n",
        "        population = new_population\n",
        "        generation += 1\n",
        "\n",
        "        # After each generation, pause to visualize the evolution\n",
        "        print(f\"Generation {generation} completed with Best Fitness: {best_snake.fitness}\")\n",
        "        pygame.time.wait(1000)  # Pause for 1 second before starting next generation\n",
        "\n",
        "    print(f\"Best Snake Fitness: {best_snake.fitness}\")\n",
        "    pygame.quit()\n",
        "\n",
        "# Start the game\n",
        "game_loop()"
      ],
      "metadata": {
        "id": "bRCahRylea09"
      },
      "execution_count": null,
      "outputs": []
    }
  ],
  "metadata": {
    "kernelspec": {
      "display_name": "Python 3",
      "language": "python",
      "name": "python3"
    },
    "language_info": {
      "codemirror_mode": {
        "name": "ipython",
        "version": 3
      },
      "file_extension": ".py",
      "mimetype": "text/x-python",
      "name": "python",
      "nbconvert_exporter": "python",
      "pygments_lexer": "ipython3",
      "version": "3.7.0"
    },
    "colab": {
      "provenance": [],
      "include_colab_link": true
    }
  },
  "nbformat": 4,
  "nbformat_minor": 0
}